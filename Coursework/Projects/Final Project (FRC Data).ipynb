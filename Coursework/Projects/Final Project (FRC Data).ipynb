{
 "cells": [
  {
   "cell_type": "code",
   "execution_count": 1,
   "metadata": {
    "slideshow": {
     "slide_type": "skip"
    }
   },
   "outputs": [],
   "source": [
    "from glob import glob\n",
    "import pandas as pd\n",
    "import numpy as np"
   ]
  },
  {
   "cell_type": "code",
   "execution_count": 2,
   "metadata": {
    "slideshow": {
     "slide_type": "skip"
    }
   },
   "outputs": [],
   "source": [
    "awards_headers=['event_key award_type_enum', 'award_name', 'team', 'awardee']\n",
    "matches_headers=['event_key match_key', 'red1', 'red2', 'red3', 'blue1', 'blue2', 'blue3', 'red_score', 'blue_score']"
   ]
  },
  {
   "cell_type": "markdown",
   "metadata": {
    "slideshow": {
     "slide_type": "slide"
    }
   },
   "source": [
    "# Processing Matches"
   ]
  },
  {
   "cell_type": "code",
   "execution_count": 3,
   "metadata": {
    "slideshow": {
     "slide_type": "skip"
    }
   },
   "outputs": [],
   "source": [
    "matches_csvs = glob('../Datasets/frc/events/**/**/*_matches.csv')"
   ]
  },
  {
   "cell_type": "code",
   "execution_count": 4,
   "metadata": {
    "slideshow": {
     "slide_type": "skip"
    }
   },
   "outputs": [
    {
     "data": {
      "text/html": [
       "<div>\n",
       "<style scoped>\n",
       "    .dataframe tbody tr th:only-of-type {\n",
       "        vertical-align: middle;\n",
       "    }\n",
       "\n",
       "    .dataframe tbody tr th {\n",
       "        vertical-align: top;\n",
       "    }\n",
       "\n",
       "    .dataframe thead th {\n",
       "        text-align: right;\n",
       "    }\n",
       "</style>\n",
       "<table border=\"1\" class=\"dataframe\">\n",
       "  <thead>\n",
       "    <tr style=\"text-align: right;\">\n",
       "      <th></th>\n",
       "      <th>event_key</th>\n",
       "      <th>match_key</th>\n",
       "      <th>red_score</th>\n",
       "      <th>blue_score</th>\n",
       "      <th>match_role</th>\n",
       "      <th>team</th>\n",
       "      <th>alliance</th>\n",
       "      <th>team_score</th>\n",
       "    </tr>\n",
       "  </thead>\n",
       "  <tbody>\n",
       "    <tr>\n",
       "      <th>0</th>\n",
       "      <td>2013azch</td>\n",
       "      <td>f1m1</td>\n",
       "      <td>111.0</td>\n",
       "      <td>69.0</td>\n",
       "      <td>red1</td>\n",
       "      <td>3944.0</td>\n",
       "      <td>red</td>\n",
       "      <td>111.0</td>\n",
       "    </tr>\n",
       "    <tr>\n",
       "      <th>1</th>\n",
       "      <td>2013azch</td>\n",
       "      <td>f1m2</td>\n",
       "      <td>114.0</td>\n",
       "      <td>50.0</td>\n",
       "      <td>red1</td>\n",
       "      <td>842.0</td>\n",
       "      <td>red</td>\n",
       "      <td>114.0</td>\n",
       "    </tr>\n",
       "    <tr>\n",
       "      <th>2</th>\n",
       "      <td>2013azch</td>\n",
       "      <td>qf1m1</td>\n",
       "      <td>87.0</td>\n",
       "      <td>89.0</td>\n",
       "      <td>red1</td>\n",
       "      <td>3944.0</td>\n",
       "      <td>red</td>\n",
       "      <td>87.0</td>\n",
       "    </tr>\n",
       "    <tr>\n",
       "      <th>3</th>\n",
       "      <td>2013azch</td>\n",
       "      <td>qf1m2</td>\n",
       "      <td>106.0</td>\n",
       "      <td>62.0</td>\n",
       "      <td>red1</td>\n",
       "      <td>3944.0</td>\n",
       "      <td>red</td>\n",
       "      <td>106.0</td>\n",
       "    </tr>\n",
       "    <tr>\n",
       "      <th>4</th>\n",
       "      <td>2013azch</td>\n",
       "      <td>qf1m3</td>\n",
       "      <td>133.0</td>\n",
       "      <td>60.0</td>\n",
       "      <td>red1</td>\n",
       "      <td>3944.0</td>\n",
       "      <td>red</td>\n",
       "      <td>133.0</td>\n",
       "    </tr>\n",
       "  </tbody>\n",
       "</table>\n",
       "</div>"
      ],
      "text/plain": [
       "  event_key match_key  red_score  blue_score match_role    team alliance  \\\n",
       "0  2013azch      f1m1      111.0        69.0       red1  3944.0      red   \n",
       "1  2013azch      f1m2      114.0        50.0       red1   842.0      red   \n",
       "2  2013azch     qf1m1       87.0        89.0       red1  3944.0      red   \n",
       "3  2013azch     qf1m2      106.0        62.0       red1  3944.0      red   \n",
       "4  2013azch     qf1m3      133.0        60.0       red1  3944.0      red   \n",
       "\n",
       "   team_score  \n",
       "0       111.0  \n",
       "1       114.0  \n",
       "2        87.0  \n",
       "3       106.0  \n",
       "4       133.0  "
      ]
     },
     "execution_count": 4,
     "metadata": {},
     "output_type": "execute_result"
    }
   ],
   "source": [
    "to_combine = []\n",
    "\n",
    "for matches_csv in matches_csvs:\n",
    "    # Read CSV with custom column names\n",
    "    matches_df = pd.read_csv(matches_csv, header=None, names=matches_headers)\n",
    "    \n",
    "    # Separate event_key and matches_key\n",
    "    matches_df['event_key'], matches_df['match_key'] = zip(*matches_df['event_key match_key'].str.split('_'))\n",
    "    matches_df.drop(columns=['event_key match_key'], inplace=True)\n",
    "    \n",
    "    # Make it a per-team basis\n",
    "    matches_df = matches_df.melt(\n",
    "        id_vars=['event_key', 'match_key', 'red_score', 'blue_score'],\n",
    "        value_vars=['red1', 'red2', 'red3', 'blue1', 'blue2', 'blue3'],\n",
    "        var_name='match_role',\n",
    "        value_name='team',\n",
    "    )\n",
    "    \n",
    "    if (matches_df['team'].dtype is np.dtype(np.object)):\n",
    "        matches_df['team'] = pd.to_numeric(matches_df['team'].str.extract('(\\d+)')[0], errors='coerce', downcast='integer')\n",
    "    \n",
    "    matches_df['alliance'] = matches_df['match_role'].str[:-1]\n",
    "\n",
    "\n",
    "    matches_df['team_score'] = np.where(\n",
    "        matches_df['alliance'] == 'red',\n",
    "        matches_df['red_score'],\n",
    "        matches_df['blue_score']\n",
    "    )\n",
    "    # matches_df.drop(columns=['red_score', 'blue_score'], inplace=True)\n",
    "\n",
    "\n",
    "    to_combine.append(matches_df)\n",
    "\n",
    "matches_df = pd.concat(to_combine)"
   ]
  },
  {
   "cell_type": "code",
   "execution_count": 29,
   "metadata": {
    "slideshow": {
     "slide_type": "fragment"
    }
   },
   "outputs": [
    {
     "data": {
      "text/html": [
       "<div>\n",
       "<style scoped>\n",
       "    .dataframe tbody tr th:only-of-type {\n",
       "        vertical-align: middle;\n",
       "    }\n",
       "\n",
       "    .dataframe tbody tr th {\n",
       "        vertical-align: top;\n",
       "    }\n",
       "\n",
       "    .dataframe thead th {\n",
       "        text-align: right;\n",
       "    }\n",
       "</style>\n",
       "<table border=\"1\" class=\"dataframe\">\n",
       "  <thead>\n",
       "    <tr style=\"text-align: right;\">\n",
       "      <th></th>\n",
       "      <th>event_key</th>\n",
       "      <th>match_key</th>\n",
       "      <th>red_score</th>\n",
       "      <th>blue_score</th>\n",
       "      <th>match_role</th>\n",
       "      <th>team</th>\n",
       "      <th>alliance</th>\n",
       "      <th>team_score</th>\n",
       "    </tr>\n",
       "  </thead>\n",
       "  <tbody>\n",
       "    <tr>\n",
       "      <th>0</th>\n",
       "      <td>2013azch</td>\n",
       "      <td>f1m1</td>\n",
       "      <td>111.0</td>\n",
       "      <td>69.0</td>\n",
       "      <td>red1</td>\n",
       "      <td>3944.0</td>\n",
       "      <td>red</td>\n",
       "      <td>111.0</td>\n",
       "    </tr>\n",
       "    <tr>\n",
       "      <th>1</th>\n",
       "      <td>2013azch</td>\n",
       "      <td>f1m2</td>\n",
       "      <td>114.0</td>\n",
       "      <td>50.0</td>\n",
       "      <td>red1</td>\n",
       "      <td>842.0</td>\n",
       "      <td>red</td>\n",
       "      <td>114.0</td>\n",
       "    </tr>\n",
       "    <tr>\n",
       "      <th>2</th>\n",
       "      <td>2013azch</td>\n",
       "      <td>qf1m1</td>\n",
       "      <td>87.0</td>\n",
       "      <td>89.0</td>\n",
       "      <td>red1</td>\n",
       "      <td>3944.0</td>\n",
       "      <td>red</td>\n",
       "      <td>87.0</td>\n",
       "    </tr>\n",
       "    <tr>\n",
       "      <th>3</th>\n",
       "      <td>2013azch</td>\n",
       "      <td>qf1m2</td>\n",
       "      <td>106.0</td>\n",
       "      <td>62.0</td>\n",
       "      <td>red1</td>\n",
       "      <td>3944.0</td>\n",
       "      <td>red</td>\n",
       "      <td>106.0</td>\n",
       "    </tr>\n",
       "    <tr>\n",
       "      <th>4</th>\n",
       "      <td>2013azch</td>\n",
       "      <td>qf1m3</td>\n",
       "      <td>133.0</td>\n",
       "      <td>60.0</td>\n",
       "      <td>red1</td>\n",
       "      <td>3944.0</td>\n",
       "      <td>red</td>\n",
       "      <td>133.0</td>\n",
       "    </tr>\n",
       "  </tbody>\n",
       "</table>\n",
       "</div>"
      ],
      "text/plain": [
       "  event_key match_key  red_score  blue_score match_role    team alliance  \\\n",
       "0  2013azch      f1m1      111.0        69.0       red1  3944.0      red   \n",
       "1  2013azch      f1m2      114.0        50.0       red1   842.0      red   \n",
       "2  2013azch     qf1m1       87.0        89.0       red1  3944.0      red   \n",
       "3  2013azch     qf1m2      106.0        62.0       red1  3944.0      red   \n",
       "4  2013azch     qf1m3      133.0        60.0       red1  3944.0      red   \n",
       "\n",
       "   team_score  \n",
       "0       111.0  \n",
       "1       114.0  \n",
       "2        87.0  \n",
       "3       106.0  \n",
       "4       133.0  "
      ]
     },
     "execution_count": 29,
     "metadata": {},
     "output_type": "execute_result"
    }
   ],
   "source": [
    "matches_df.head()"
   ]
  },
  {
   "cell_type": "markdown",
   "metadata": {
    "slideshow": {
     "slide_type": "subslide"
    }
   },
   "source": [
    "# Processing Rankings"
   ]
  },
  {
   "cell_type": "code",
   "execution_count": 5,
   "metadata": {
    "slideshow": {
     "slide_type": "skip"
    }
   },
   "outputs": [],
   "source": [
    "rankings_csvs = glob('../Datasets/frc/events/**/**/*_rankings.csv')"
   ]
  },
  {
   "cell_type": "code",
   "execution_count": 6,
   "metadata": {
    "slideshow": {
     "slide_type": "skip"
    }
   },
   "outputs": [
    {
     "data": {
      "text/html": [
       "<div>\n",
       "<style scoped>\n",
       "    .dataframe tbody tr th:only-of-type {\n",
       "        vertical-align: middle;\n",
       "    }\n",
       "\n",
       "    .dataframe tbody tr th {\n",
       "        vertical-align: top;\n",
       "    }\n",
       "\n",
       "    .dataframe thead th {\n",
       "        text-align: right;\n",
       "    }\n",
       "</style>\n",
       "<table border=\"1\" class=\"dataframe\">\n",
       "  <thead>\n",
       "    <tr style=\"text-align: right;\">\n",
       "      <th></th>\n",
       "      <th>rank</th>\n",
       "      <th>team</th>\n",
       "      <th>event_key</th>\n",
       "    </tr>\n",
       "  </thead>\n",
       "  <tbody>\n",
       "    <tr>\n",
       "      <th>0</th>\n",
       "      <td>1</td>\n",
       "      <td>1726</td>\n",
       "      <td>2013azch</td>\n",
       "    </tr>\n",
       "    <tr>\n",
       "      <th>1</th>\n",
       "      <td>2</td>\n",
       "      <td>1492</td>\n",
       "      <td>2013azch</td>\n",
       "    </tr>\n",
       "    <tr>\n",
       "      <th>2</th>\n",
       "      <td>3</td>\n",
       "      <td>1290</td>\n",
       "      <td>2013azch</td>\n",
       "    </tr>\n",
       "    <tr>\n",
       "      <th>3</th>\n",
       "      <td>4</td>\n",
       "      <td>2449</td>\n",
       "      <td>2013azch</td>\n",
       "    </tr>\n",
       "    <tr>\n",
       "      <th>4</th>\n",
       "      <td>5</td>\n",
       "      <td>60</td>\n",
       "      <td>2013azch</td>\n",
       "    </tr>\n",
       "  </tbody>\n",
       "</table>\n",
       "</div>"
      ],
      "text/plain": [
       "  rank  team event_key\n",
       "0    1  1726  2013azch\n",
       "1    2  1492  2013azch\n",
       "2    3  1290  2013azch\n",
       "3    4  2449  2013azch\n",
       "4    5    60  2013azch"
      ]
     },
     "execution_count": 6,
     "metadata": {},
     "output_type": "execute_result"
    }
   ],
   "source": [
    "to_combine = []\n",
    "\n",
    "for rankings_csv in rankings_csvs:\n",
    "    rankings_df = pd.read_csv(rankings_csv)\n",
    "    \n",
    "    rankings_df = rankings_df[['Rank', 'Team']]\n",
    "    rankings_df.columns = rankings_df.columns.str.lower()\n",
    "    rankings_df['event_key'] = rankings_csv.split('/')[5]\n",
    "    \n",
    "    to_combine.append(rankings_df)\n",
    "\n",
    "rankings_df = pd.concat(to_combine)"
   ]
  },
  {
   "cell_type": "code",
   "execution_count": null,
   "metadata": {
    "slideshow": {
     "slide_type": "fragment"
    }
   },
   "outputs": [],
   "source": [
    "rankings_df.head()"
   ]
  },
  {
   "cell_type": "markdown",
   "metadata": {
    "slideshow": {
     "slide_type": "subslide"
    }
   },
   "source": [
    "# Processing Awards"
   ]
  },
  {
   "cell_type": "code",
   "execution_count": 7,
   "metadata": {
    "slideshow": {
     "slide_type": "skip"
    }
   },
   "outputs": [],
   "source": [
    "awards_csvs = glob('../Datasets/frc/events/**/**/*_awards.csv')"
   ]
  },
  {
   "cell_type": "code",
   "execution_count": 8,
   "metadata": {
    "slideshow": {
     "slide_type": "skip"
    }
   },
   "outputs": [
    {
     "data": {
      "text/html": [
       "<div>\n",
       "<style scoped>\n",
       "    .dataframe tbody tr th:only-of-type {\n",
       "        vertical-align: middle;\n",
       "    }\n",
       "\n",
       "    .dataframe tbody tr th {\n",
       "        vertical-align: top;\n",
       "    }\n",
       "\n",
       "    .dataframe thead th {\n",
       "        text-align: right;\n",
       "    }\n",
       "</style>\n",
       "<table border=\"1\" class=\"dataframe\">\n",
       "  <thead>\n",
       "    <tr style=\"text-align: right;\">\n",
       "      <th></th>\n",
       "      <th>award_name</th>\n",
       "      <th>team</th>\n",
       "      <th>event_key</th>\n",
       "      <th>award_type_enum</th>\n",
       "      <th>award_type</th>\n",
       "    </tr>\n",
       "  </thead>\n",
       "  <tbody>\n",
       "    <tr>\n",
       "      <th>0</th>\n",
       "      <td>Regional Chairman's Award</td>\n",
       "      <td>2486.0</td>\n",
       "      <td>2013azch</td>\n",
       "      <td>0</td>\n",
       "      <td>CHAIRMANS</td>\n",
       "    </tr>\n",
       "    <tr>\n",
       "      <th>1</th>\n",
       "      <td>Regional Winners</td>\n",
       "      <td>3944.0</td>\n",
       "      <td>2013azch</td>\n",
       "      <td>1</td>\n",
       "      <td>WINNER</td>\n",
       "    </tr>\n",
       "    <tr>\n",
       "      <th>2</th>\n",
       "      <td>Regional Winners</td>\n",
       "      <td>842.0</td>\n",
       "      <td>2013azch</td>\n",
       "      <td>1</td>\n",
       "      <td>WINNER</td>\n",
       "    </tr>\n",
       "    <tr>\n",
       "      <th>3</th>\n",
       "      <td>Regional Winners</td>\n",
       "      <td>1726.0</td>\n",
       "      <td>2013azch</td>\n",
       "      <td>1</td>\n",
       "      <td>WINNER</td>\n",
       "    </tr>\n",
       "    <tr>\n",
       "      <th>4</th>\n",
       "      <td>Rookie All Star Award</td>\n",
       "      <td>4629.0</td>\n",
       "      <td>2013azch</td>\n",
       "      <td>10</td>\n",
       "      <td>NaN</td>\n",
       "    </tr>\n",
       "  </tbody>\n",
       "</table>\n",
       "</div>"
      ],
      "text/plain": [
       "                  award_name    team event_key  award_type_enum award_type\n",
       "0  Regional Chairman's Award  2486.0  2013azch                0  CHAIRMANS\n",
       "1           Regional Winners  3944.0  2013azch                1     WINNER\n",
       "2           Regional Winners   842.0  2013azch                1     WINNER\n",
       "3           Regional Winners  1726.0  2013azch                1     WINNER\n",
       "4      Rookie All Star Award  4629.0  2013azch               10        NaN"
      ]
     },
     "execution_count": 8,
     "metadata": {},
     "output_type": "execute_result"
    }
   ],
   "source": [
    "to_combine = []\n",
    "\n",
    "for awards_csv in awards_csvs:\n",
    "    awards_df = pd.read_csv(awards_csv, header=None, names=awards_headers)\n",
    "    \n",
    "    awards_df['event_key'], awards_df['award_type_enum'] = zip(*awards_df['event_key award_type_enum'].str.split('_', 1))\n",
    "    \n",
    "    awards_df['award_type_enum'] = awards_df['award_type_enum'].astype(int)\n",
    "    \n",
    "    if (awards_df['team'].dtype is np.dtype(np.object)):\n",
    "        awards_df['team'] = pd.to_numeric(awards_df['team'].str.extract('(\\d+)')[0], errors='coerce', downcast='integer')\n",
    "    \n",
    "    awards_df['award_type'] = awards_df['award_type_enum'].map({ 0: 'CHAIRMANS', 1: 'WINNER', 2: 'FINALIST' })\n",
    "    \n",
    "    awards_df.drop(columns=['awardee', 'event_key award_type_enum'], inplace=True)\n",
    "    \n",
    "    to_combine.append(awards_df)\n",
    "\n",
    "awards_df = pd.concat(to_combine)"
   ]
  },
  {
   "cell_type": "code",
   "execution_count": null,
   "metadata": {
    "slideshow": {
     "slide_type": "fragment"
    }
   },
   "outputs": [],
   "source": [
    "awards_df.head()"
   ]
  },
  {
   "cell_type": "markdown",
   "metadata": {
    "slideshow": {
     "slide_type": "subslide"
    }
   },
   "source": [
    "# Processing Teams"
   ]
  },
  {
   "cell_type": "code",
   "execution_count": 9,
   "metadata": {
    "slideshow": {
     "slide_type": "skip"
    }
   },
   "outputs": [],
   "source": [
    "import datetime"
   ]
  },
  {
   "cell_type": "code",
   "execution_count": 10,
   "metadata": {
    "slideshow": {
     "slide_type": "skip"
    }
   },
   "outputs": [
    {
     "data": {
      "text/html": [
       "<div>\n",
       "<style scoped>\n",
       "    .dataframe tbody tr th:only-of-type {\n",
       "        vertical-align: middle;\n",
       "    }\n",
       "\n",
       "    .dataframe tbody tr th {\n",
       "        vertical-align: top;\n",
       "    }\n",
       "\n",
       "    .dataframe thead th {\n",
       "        text-align: right;\n",
       "    }\n",
       "</style>\n",
       "<table border=\"1\" class=\"dataframe\">\n",
       "  <thead>\n",
       "    <tr style=\"text-align: right;\">\n",
       "      <th></th>\n",
       "      <th>team</th>\n",
       "      <th>rookie_year</th>\n",
       "      <th>age</th>\n",
       "    </tr>\n",
       "  </thead>\n",
       "  <tbody>\n",
       "    <tr>\n",
       "      <th>0</th>\n",
       "      <td>1</td>\n",
       "      <td>1997</td>\n",
       "      <td>22</td>\n",
       "    </tr>\n",
       "    <tr>\n",
       "      <th>1</th>\n",
       "      <td>4</td>\n",
       "      <td>1997</td>\n",
       "      <td>22</td>\n",
       "    </tr>\n",
       "    <tr>\n",
       "      <th>2</th>\n",
       "      <td>5</td>\n",
       "      <td>1998</td>\n",
       "      <td>21</td>\n",
       "    </tr>\n",
       "    <tr>\n",
       "      <th>3</th>\n",
       "      <td>6</td>\n",
       "      <td>1994</td>\n",
       "      <td>25</td>\n",
       "    </tr>\n",
       "    <tr>\n",
       "      <th>5</th>\n",
       "      <td>8</td>\n",
       "      <td>1996</td>\n",
       "      <td>23</td>\n",
       "    </tr>\n",
       "  </tbody>\n",
       "</table>\n",
       "</div>"
      ],
      "text/plain": [
       "   team  rookie_year  age\n",
       "0     1         1997   22\n",
       "1     4         1997   22\n",
       "2     5         1998   21\n",
       "3     6         1994   25\n",
       "5     8         1996   23"
      ]
     },
     "execution_count": 10,
     "metadata": {},
     "output_type": "execute_result"
    }
   ],
   "source": [
    "teams_df = pd.read_csv('../Datasets/frc/teams/teams.csv', header=None)\n",
    "\n",
    "teams_df = teams_df[[0, 7]].dropna()\n",
    "teams_df.columns = ['team', 'rookie_year']\n",
    "\n",
    "teams_df['rookie_year'] = teams_df['rookie_year'].astype(int)\n",
    "teams_df['team'] = teams_df['team'].str.slice(start=3).astype(int)\n",
    "\n",
    "teams_df['age'] = datetime.datetime.now().year - teams_df['rookie_year']"
   ]
  },
  {
   "cell_type": "code",
   "execution_count": null,
   "metadata": {
    "slideshow": {
     "slide_type": "fragment"
    }
   },
   "outputs": [],
   "source": [
    "teams_df.head()"
   ]
  },
  {
   "cell_type": "markdown",
   "metadata": {
    "slideshow": {
     "slide_type": "subslide"
    }
   },
   "source": [
    "# Processing Event Atendees"
   ]
  },
  {
   "cell_type": "code",
   "execution_count": 11,
   "metadata": {
    "slideshow": {
     "slide_type": "skip"
    }
   },
   "outputs": [],
   "source": [
    "atendees_csvs = glob('../Datasets/frc/events/**/**/*_teams.csv')"
   ]
  },
  {
   "cell_type": "code",
   "execution_count": 12,
   "metadata": {
    "slideshow": {
     "slide_type": "skip"
    }
   },
   "outputs": [
    {
     "data": {
      "text/html": [
       "<div>\n",
       "<style scoped>\n",
       "    .dataframe tbody tr th:only-of-type {\n",
       "        vertical-align: middle;\n",
       "    }\n",
       "\n",
       "    .dataframe tbody tr th {\n",
       "        vertical-align: top;\n",
       "    }\n",
       "\n",
       "    .dataframe thead th {\n",
       "        text-align: right;\n",
       "    }\n",
       "</style>\n",
       "<table border=\"1\" class=\"dataframe\">\n",
       "  <thead>\n",
       "    <tr style=\"text-align: right;\">\n",
       "      <th></th>\n",
       "      <th>event_key</th>\n",
       "      <th>team</th>\n",
       "    </tr>\n",
       "  </thead>\n",
       "  <tbody>\n",
       "    <tr>\n",
       "      <th>0</th>\n",
       "      <td>2013azch</td>\n",
       "      <td>1011</td>\n",
       "    </tr>\n",
       "    <tr>\n",
       "      <th>1</th>\n",
       "      <td>2013azch</td>\n",
       "      <td>1013</td>\n",
       "    </tr>\n",
       "    <tr>\n",
       "      <th>2</th>\n",
       "      <td>2013azch</td>\n",
       "      <td>1164</td>\n",
       "    </tr>\n",
       "    <tr>\n",
       "      <th>3</th>\n",
       "      <td>2013azch</td>\n",
       "      <td>1165</td>\n",
       "    </tr>\n",
       "    <tr>\n",
       "      <th>4</th>\n",
       "      <td>2013azch</td>\n",
       "      <td>1212</td>\n",
       "    </tr>\n",
       "  </tbody>\n",
       "</table>\n",
       "</div>"
      ],
      "text/plain": [
       "  event_key  team\n",
       "0  2013azch  1011\n",
       "1  2013azch  1013\n",
       "2  2013azch  1164\n",
       "3  2013azch  1165\n",
       "4  2013azch  1212"
      ]
     },
     "execution_count": 12,
     "metadata": {},
     "output_type": "execute_result"
    }
   ],
   "source": [
    "to_combine = []\n",
    "\n",
    "for atendees_csv in atendees_csvs:\n",
    "    atendees_df = pd.read_csv(atendees_csv, header=None)\n",
    "    atendees_df['event_key'] = atendees_csv.split('/')[5]\n",
    "    \n",
    "    atendees_df = atendees_df.melt(\n",
    "        id_vars=['event_key'],\n",
    "        value_name='team'\n",
    "    )\n",
    "    \n",
    "    atendees_df['team'] = atendees_df['team'].str.slice(start=3).astype(int)\n",
    "    atendees_df.drop(columns=['variable'], inplace=True)\n",
    "    \n",
    "    to_combine.append(atendees_df)\n",
    "\n",
    "atendees_df = pd.concat(to_combine)"
   ]
  },
  {
   "cell_type": "code",
   "execution_count": null,
   "metadata": {
    "slideshow": {
     "slide_type": "fragment"
    }
   },
   "outputs": [],
   "source": [
    "atendees_df.head()"
   ]
  },
  {
   "cell_type": "markdown",
   "metadata": {
    "slideshow": {
     "slide_type": "slide"
    }
   },
   "source": [
    "# Exploration"
   ]
  },
  {
   "cell_type": "code",
   "execution_count": 13,
   "metadata": {
    "slideshow": {
     "slide_type": "skip"
    }
   },
   "outputs": [],
   "source": [
    "import seaborn as sns"
   ]
  },
  {
   "cell_type": "markdown",
   "metadata": {
    "slideshow": {
     "slide_type": "slide"
    }
   },
   "source": [
    "# How closely related is a team's age and their event winrate?"
   ]
  },
  {
   "cell_type": "code",
   "execution_count": 14,
   "metadata": {
    "slideshow": {
     "slide_type": "skip"
    }
   },
   "outputs": [],
   "source": [
    "df = pd.merge(atendees_df, awards_df, on=['event_key', 'team'], how='inner')\n",
    "df['won'] = df['award_type'] == 'WINNER'\n",
    "df.drop(columns=['award_name', 'award_type_enum', 'award_type'], inplace=True)\n",
    "df = df.groupby('team').mean()"
   ]
  },
  {
   "cell_type": "code",
   "execution_count": 15,
   "metadata": {
    "slideshow": {
     "slide_type": "skip"
    }
   },
   "outputs": [
    {
     "data": {
      "text/html": [
       "<div>\n",
       "<style scoped>\n",
       "    .dataframe tbody tr th:only-of-type {\n",
       "        vertical-align: middle;\n",
       "    }\n",
       "\n",
       "    .dataframe tbody tr th {\n",
       "        vertical-align: top;\n",
       "    }\n",
       "\n",
       "    .dataframe thead th {\n",
       "        text-align: right;\n",
       "    }\n",
       "</style>\n",
       "<table border=\"1\" class=\"dataframe\">\n",
       "  <thead>\n",
       "    <tr style=\"text-align: right;\">\n",
       "      <th></th>\n",
       "      <th>team</th>\n",
       "      <th>winrate</th>\n",
       "      <th>rookie_year</th>\n",
       "      <th>age</th>\n",
       "    </tr>\n",
       "  </thead>\n",
       "  <tbody>\n",
       "    <tr>\n",
       "      <th>0</th>\n",
       "      <td>1</td>\n",
       "      <td>0.088235</td>\n",
       "      <td>1997</td>\n",
       "      <td>22</td>\n",
       "    </tr>\n",
       "    <tr>\n",
       "      <th>1</th>\n",
       "      <td>4</td>\n",
       "      <td>0.250000</td>\n",
       "      <td>1997</td>\n",
       "      <td>22</td>\n",
       "    </tr>\n",
       "    <tr>\n",
       "      <th>2</th>\n",
       "      <td>5</td>\n",
       "      <td>0.200000</td>\n",
       "      <td>1998</td>\n",
       "      <td>21</td>\n",
       "    </tr>\n",
       "    <tr>\n",
       "      <th>3</th>\n",
       "      <td>6</td>\n",
       "      <td>0.000000</td>\n",
       "      <td>1994</td>\n",
       "      <td>25</td>\n",
       "    </tr>\n",
       "    <tr>\n",
       "      <th>4</th>\n",
       "      <td>8</td>\n",
       "      <td>0.062500</td>\n",
       "      <td>1996</td>\n",
       "      <td>23</td>\n",
       "    </tr>\n",
       "  </tbody>\n",
       "</table>\n",
       "</div>"
      ],
      "text/plain": [
       "   team   winrate  rookie_year  age\n",
       "0     1  0.088235         1997   22\n",
       "1     4  0.250000         1997   22\n",
       "2     5  0.200000         1998   21\n",
       "3     6  0.000000         1994   25\n",
       "4     8  0.062500         1996   23"
      ]
     },
     "execution_count": 15,
     "metadata": {},
     "output_type": "execute_result"
    }
   ],
   "source": [
    "df.reset_index(inplace=True)\n",
    "df.rename(columns={'won': 'winrate'}, inplace=True)\n",
    "df = pd.merge(df, teams_df, on=['team'], how='inner')\n",
    "df.head()"
   ]
  },
  {
   "cell_type": "code",
   "execution_count": 16,
   "metadata": {
    "slideshow": {
     "slide_type": "subslide"
    }
   },
   "outputs": [
    {
     "data": {
      "text/plain": [
       "<seaborn.axisgrid.JointGrid at 0x1a215531d0>"
      ]
     },
     "execution_count": 16,
     "metadata": {},
     "output_type": "execute_result"
    },
    {
     "data": {
      "image/png": "[encoded data removed]",
      "text/plain": [
       "<Figure size 432x432 with 3 Axes>"
      ]
     },
     "metadata": {
      "needs_background": "light"
     },
     "output_type": "display_data"
    }
   ],
   "source": [
    "sns.jointplot(\n",
    "    x='age', y='winrate',\n",
    "    data=df[(df['age'] < 20) & (df['winrate'] <= 0.3)],\n",
    "    kind='kde'\n",
    ")"
   ]
  },
  {
   "cell_type": "markdown",
   "metadata": {
    "slideshow": {
     "slide_type": "slide"
    }
   },
   "source": [
    "# How do the differences between alliance scores change over time"
   ]
  },
  {
   "cell_type": "code",
   "execution_count": 17,
   "metadata": {
    "slideshow": {
     "slide_type": "skip"
    }
   },
   "outputs": [
    {
     "data": {
      "text/html": [
       "<div>\n",
       "<style scoped>\n",
       "    .dataframe tbody tr th:only-of-type {\n",
       "        vertical-align: middle;\n",
       "    }\n",
       "\n",
       "    .dataframe tbody tr th {\n",
       "        vertical-align: top;\n",
       "    }\n",
       "\n",
       "    .dataframe thead th {\n",
       "        text-align: right;\n",
       "    }\n",
       "</style>\n",
       "<table border=\"1\" class=\"dataframe\">\n",
       "  <thead>\n",
       "    <tr style=\"text-align: right;\">\n",
       "      <th></th>\n",
       "      <th>event_key</th>\n",
       "      <th>match_key</th>\n",
       "      <th>red_score</th>\n",
       "      <th>blue_score</th>\n",
       "      <th>match_role</th>\n",
       "      <th>team</th>\n",
       "      <th>alliance</th>\n",
       "      <th>team_score</th>\n",
       "      <th>score_diff</th>\n",
       "      <th>year</th>\n",
       "    </tr>\n",
       "  </thead>\n",
       "  <tbody>\n",
       "    <tr>\n",
       "      <th>0</th>\n",
       "      <td>2013azch</td>\n",
       "      <td>f1m1</td>\n",
       "      <td>111.0</td>\n",
       "      <td>69.0</td>\n",
       "      <td>red1</td>\n",
       "      <td>3944.0</td>\n",
       "      <td>red</td>\n",
       "      <td>111.0</td>\n",
       "      <td>42.0</td>\n",
       "      <td>2013</td>\n",
       "    </tr>\n",
       "    <tr>\n",
       "      <th>1</th>\n",
       "      <td>2013azch</td>\n",
       "      <td>f1m2</td>\n",
       "      <td>114.0</td>\n",
       "      <td>50.0</td>\n",
       "      <td>red1</td>\n",
       "      <td>842.0</td>\n",
       "      <td>red</td>\n",
       "      <td>114.0</td>\n",
       "      <td>64.0</td>\n",
       "      <td>2013</td>\n",
       "    </tr>\n",
       "    <tr>\n",
       "      <th>2</th>\n",
       "      <td>2013azch</td>\n",
       "      <td>qf1m1</td>\n",
       "      <td>87.0</td>\n",
       "      <td>89.0</td>\n",
       "      <td>red1</td>\n",
       "      <td>3944.0</td>\n",
       "      <td>red</td>\n",
       "      <td>87.0</td>\n",
       "      <td>2.0</td>\n",
       "      <td>2013</td>\n",
       "    </tr>\n",
       "    <tr>\n",
       "      <th>3</th>\n",
       "      <td>2013azch</td>\n",
       "      <td>qf1m2</td>\n",
       "      <td>106.0</td>\n",
       "      <td>62.0</td>\n",
       "      <td>red1</td>\n",
       "      <td>3944.0</td>\n",
       "      <td>red</td>\n",
       "      <td>106.0</td>\n",
       "      <td>44.0</td>\n",
       "      <td>2013</td>\n",
       "    </tr>\n",
       "    <tr>\n",
       "      <th>4</th>\n",
       "      <td>2013azch</td>\n",
       "      <td>qf1m3</td>\n",
       "      <td>133.0</td>\n",
       "      <td>60.0</td>\n",
       "      <td>red1</td>\n",
       "      <td>3944.0</td>\n",
       "      <td>red</td>\n",
       "      <td>133.0</td>\n",
       "      <td>73.0</td>\n",
       "      <td>2013</td>\n",
       "    </tr>\n",
       "  </tbody>\n",
       "</table>\n",
       "</div>"
      ],
      "text/plain": [
       "  event_key match_key  red_score  blue_score match_role    team alliance  \\\n",
       "0  2013azch      f1m1      111.0        69.0       red1  3944.0      red   \n",
       "1  2013azch      f1m2      114.0        50.0       red1   842.0      red   \n",
       "2  2013azch     qf1m1       87.0        89.0       red1  3944.0      red   \n",
       "3  2013azch     qf1m2      106.0        62.0       red1  3944.0      red   \n",
       "4  2013azch     qf1m3      133.0        60.0       red1  3944.0      red   \n",
       "\n",
       "   team_score  score_diff  year  \n",
       "0       111.0        42.0  2013  \n",
       "1       114.0        64.0  2013  \n",
       "2        87.0         2.0  2013  \n",
       "3       106.0        44.0  2013  \n",
       "4       133.0        73.0  2013  "
      ]
     },
     "execution_count": 17,
     "metadata": {},
     "output_type": "execute_result"
    }
   ],
   "source": [
    "df = matches_df.copy()\n",
    "df['score_diff'] = abs(df['red_score'] - df['blue_score'])\n",
    "df['year'] = df['event_key'].str.slice(stop=4).astype(int)\n",
    "df.head()"
   ]
  },
  {
   "cell_type": "code",
   "execution_count": 18,
   "metadata": {
    "slideshow": {
     "slide_type": "subslide"
    }
   },
   "outputs": [
    {
     "data": {
      "text/plain": [
       "<matplotlib.axes._subplots.AxesSubplot at 0x11a25e978>"
      ]
     },
     "execution_count": 18,
     "metadata": {},
     "output_type": "execute_result"
    },
    {
     "data": {
      "image/png": "[encoded data removed]",
      "text/plain": [
       "<Figure size 432x288 with 1 Axes>"
      ]
     },
     "metadata": {
      "needs_background": "light"
     },
     "output_type": "display_data"
    }
   ],
   "source": [
    "sns.lineplot(x='year', y='score_diff', data=df)"
   ]
  },
  {
   "cell_type": "markdown",
   "metadata": {
    "slideshow": {
     "slide_type": "skip"
    }
   },
   "source": [
    "Larger differences in suggest more \"steam-rolled\" matches which are likely less interesting to watch and play."
   ]
  },
  {
   "cell_type": "markdown",
   "metadata": {
    "slideshow": {
     "slide_type": "slide"
    }
   },
   "source": [
    "# How does match winrate relate to age"
   ]
  },
  {
   "cell_type": "code",
   "execution_count": 19,
   "metadata": {
    "slideshow": {
     "slide_type": "skip"
    }
   },
   "outputs": [
    {
     "data": {
      "text/html": [
       "<div>\n",
       "<style scoped>\n",
       "    .dataframe tbody tr th:only-of-type {\n",
       "        vertical-align: middle;\n",
       "    }\n",
       "\n",
       "    .dataframe tbody tr th {\n",
       "        vertical-align: top;\n",
       "    }\n",
       "\n",
       "    .dataframe thead th {\n",
       "        text-align: right;\n",
       "    }\n",
       "</style>\n",
       "<table border=\"1\" class=\"dataframe\">\n",
       "  <thead>\n",
       "    <tr style=\"text-align: right;\">\n",
       "      <th></th>\n",
       "      <th>event_key</th>\n",
       "      <th>match_key</th>\n",
       "      <th>red_score</th>\n",
       "      <th>blue_score</th>\n",
       "      <th>match_role</th>\n",
       "      <th>team</th>\n",
       "      <th>alliance</th>\n",
       "      <th>team_score</th>\n",
       "    </tr>\n",
       "  </thead>\n",
       "  <tbody>\n",
       "    <tr>\n",
       "      <th>0</th>\n",
       "      <td>2013azch</td>\n",
       "      <td>f1m1</td>\n",
       "      <td>111.0</td>\n",
       "      <td>69.0</td>\n",
       "      <td>red1</td>\n",
       "      <td>3944.0</td>\n",
       "      <td>red</td>\n",
       "      <td>111.0</td>\n",
       "    </tr>\n",
       "    <tr>\n",
       "      <th>1</th>\n",
       "      <td>2013azch</td>\n",
       "      <td>f1m2</td>\n",
       "      <td>114.0</td>\n",
       "      <td>50.0</td>\n",
       "      <td>red1</td>\n",
       "      <td>842.0</td>\n",
       "      <td>red</td>\n",
       "      <td>114.0</td>\n",
       "    </tr>\n",
       "    <tr>\n",
       "      <th>2</th>\n",
       "      <td>2013azch</td>\n",
       "      <td>qf1m1</td>\n",
       "      <td>87.0</td>\n",
       "      <td>89.0</td>\n",
       "      <td>red1</td>\n",
       "      <td>3944.0</td>\n",
       "      <td>red</td>\n",
       "      <td>87.0</td>\n",
       "    </tr>\n",
       "    <tr>\n",
       "      <th>3</th>\n",
       "      <td>2013azch</td>\n",
       "      <td>qf1m2</td>\n",
       "      <td>106.0</td>\n",
       "      <td>62.0</td>\n",
       "      <td>red1</td>\n",
       "      <td>3944.0</td>\n",
       "      <td>red</td>\n",
       "      <td>106.0</td>\n",
       "    </tr>\n",
       "    <tr>\n",
       "      <th>4</th>\n",
       "      <td>2013azch</td>\n",
       "      <td>qf1m3</td>\n",
       "      <td>133.0</td>\n",
       "      <td>60.0</td>\n",
       "      <td>red1</td>\n",
       "      <td>3944.0</td>\n",
       "      <td>red</td>\n",
       "      <td>133.0</td>\n",
       "    </tr>\n",
       "  </tbody>\n",
       "</table>\n",
       "</div>"
      ],
      "text/plain": [
       "  event_key match_key  red_score  blue_score match_role    team alliance  \\\n",
       "0  2013azch      f1m1      111.0        69.0       red1  3944.0      red   \n",
       "1  2013azch      f1m2      114.0        50.0       red1   842.0      red   \n",
       "2  2013azch     qf1m1       87.0        89.0       red1  3944.0      red   \n",
       "3  2013azch     qf1m2      106.0        62.0       red1  3944.0      red   \n",
       "4  2013azch     qf1m3      133.0        60.0       red1  3944.0      red   \n",
       "\n",
       "   team_score  \n",
       "0       111.0  \n",
       "1       114.0  \n",
       "2        87.0  \n",
       "3       106.0  \n",
       "4       133.0  "
      ]
     },
     "execution_count": 19,
     "metadata": {},
     "output_type": "execute_result"
    }
   ],
   "source": [
    "df = matches_df.copy().dropna()\n",
    "df.head()"
   ]
  },
  {
   "cell_type": "code",
   "execution_count": 21,
   "metadata": {
    "slideshow": {
     "slide_type": "skip"
    }
   },
   "outputs": [],
   "source": [
    "df['won'] = (df['red_score'] > df['blue_score']) & (df['alliance'] == 'red')"
   ]
  },
  {
   "cell_type": "code",
   "execution_count": 22,
   "metadata": {
    "slideshow": {
     "slide_type": "skip"
    }
   },
   "outputs": [
    {
     "data": {
      "text/html": [
       "<div>\n",
       "<style scoped>\n",
       "    .dataframe tbody tr th:only-of-type {\n",
       "        vertical-align: middle;\n",
       "    }\n",
       "\n",
       "    .dataframe tbody tr th {\n",
       "        vertical-align: top;\n",
       "    }\n",
       "\n",
       "    .dataframe thead th {\n",
       "        text-align: right;\n",
       "    }\n",
       "</style>\n",
       "<table border=\"1\" class=\"dataframe\">\n",
       "  <thead>\n",
       "    <tr style=\"text-align: right;\">\n",
       "      <th></th>\n",
       "      <th>team</th>\n",
       "      <th>winrate</th>\n",
       "      <th>rookie_year</th>\n",
       "      <th>age</th>\n",
       "    </tr>\n",
       "  </thead>\n",
       "  <tbody>\n",
       "    <tr>\n",
       "      <th>0</th>\n",
       "      <td>1.0</td>\n",
       "      <td>0.268603</td>\n",
       "      <td>1997</td>\n",
       "      <td>22</td>\n",
       "    </tr>\n",
       "    <tr>\n",
       "      <th>1</th>\n",
       "      <td>4.0</td>\n",
       "      <td>0.203474</td>\n",
       "      <td>1997</td>\n",
       "      <td>22</td>\n",
       "    </tr>\n",
       "    <tr>\n",
       "      <th>2</th>\n",
       "      <td>5.0</td>\n",
       "      <td>0.226667</td>\n",
       "      <td>1998</td>\n",
       "      <td>21</td>\n",
       "    </tr>\n",
       "    <tr>\n",
       "      <th>3</th>\n",
       "      <td>8.0</td>\n",
       "      <td>0.241509</td>\n",
       "      <td>1996</td>\n",
       "      <td>23</td>\n",
       "    </tr>\n",
       "    <tr>\n",
       "      <th>4</th>\n",
       "      <td>9.0</td>\n",
       "      <td>0.169492</td>\n",
       "      <td>1998</td>\n",
       "      <td>21</td>\n",
       "    </tr>\n",
       "  </tbody>\n",
       "</table>\n",
       "</div>"
      ],
      "text/plain": [
       "   team   winrate  rookie_year  age\n",
       "0   1.0  0.268603         1997   22\n",
       "1   4.0  0.203474         1997   22\n",
       "2   5.0  0.226667         1998   21\n",
       "3   8.0  0.241509         1996   23\n",
       "4   9.0  0.169492         1998   21"
      ]
     },
     "execution_count": 22,
     "metadata": {},
     "output_type": "execute_result"
    }
   ],
   "source": [
    "df = df.groupby('team').mean()\n",
    "df.reset_index(inplace=True)\n",
    "df.rename(columns={ 'won': 'winrate' }, inplace=True)\n",
    "df.drop(columns=['red_score', 'blue_score', 'team_score'], inplace=True)\n",
    "df = pd.merge(df, teams_df, on=['team'], how='inner')\n",
    "df.head()"
   ]
  },
  {
   "cell_type": "code",
   "execution_count": 23,
   "metadata": {
    "slideshow": {
     "slide_type": "subslide"
    }
   },
   "outputs": [
    {
     "data": {
      "text/plain": [
       "<seaborn.axisgrid.JointGrid at 0x11b0cca20>"
      ]
     },
     "execution_count": 23,
     "metadata": {},
     "output_type": "execute_result"
    },
    {
     "data": {
      "image/png": "[encoded data removed]",
      "text/plain": [
       "<Figure size 432x432 with 3 Axes>"
      ]
     },
     "metadata": {
      "needs_background": "light"
     },
     "output_type": "display_data"
    }
   ],
   "source": [
    "sns.jointplot(x='age', y='winrate', data=df[(df['age'] < 25) & (df['winrate'] < 0.4)], kind='kde')"
   ]
  },
  {
   "cell_type": "markdown",
   "metadata": {
    "slideshow": {
     "slide_type": "fragment"
    }
   },
   "source": [
    "### Doesn't seem particularly unique"
   ]
  },
  {
   "cell_type": "markdown",
   "metadata": {
    "slideshow": {
     "slide_type": "slide"
    }
   },
   "source": [
    "# Red vs. Blue Winrate?"
   ]
  },
  {
   "cell_type": "code",
   "execution_count": 24,
   "metadata": {
    "slideshow": {
     "slide_type": "skip"
    }
   },
   "outputs": [],
   "source": [
    "df = matches_df.copy().dropna()\n",
    "df['won'] = (df['red_score'] > df['blue_score']) ^ (df['alliance'] == 'blue')\n",
    "df['year'] = df['event_key'].str[:4].astype(int)"
   ]
  },
  {
   "cell_type": "code",
   "execution_count": 25,
   "metadata": {
    "slideshow": {
     "slide_type": "subslide"
    }
   },
   "outputs": [
    {
     "data": {
      "text/plain": [
       "<matplotlib.axes._subplots.AxesSubplot at 0x11b906cc0>"
      ]
     },
     "execution_count": 25,
     "metadata": {},
     "output_type": "execute_result"
    },
    {
     "data": {
      "image/png": "[encoded data removed]",
      "text/plain": [
       "<Figure size 432x288 with 1 Axes>"
      ]
     },
     "metadata": {
      "needs_background": "light"
     },
     "output_type": "display_data"
    }
   ],
   "source": [
    "sns.lineplot(\n",
    "    x='year', y='team_score',\n",
    "    hue='alliance', palette=['red', 'blue'],\n",
    "    data=df\n",
    ")"
   ]
  },
  {
   "cell_type": "markdown",
   "metadata": {
    "slideshow": {
     "slide_type": "fragment"
    }
   },
   "source": [
    "### Well that's not helpful"
   ]
  },
  {
   "cell_type": "code",
   "execution_count": 26,
   "metadata": {
    "slideshow": {
     "slide_type": "skip"
    }
   },
   "outputs": [],
   "source": [
    "mean_year = df.groupby('year')['team_score'].mean()\n",
    "df['rel_score'] = df['team_score'] / df['year'].map(mean_year)"
   ]
  },
  {
   "cell_type": "code",
   "execution_count": 27,
   "metadata": {
    "slideshow": {
     "slide_type": "subslide"
    }
   },
   "outputs": [
    {
     "data": {
      "text/plain": [
       "<matplotlib.axes._subplots.AxesSubplot at 0x11bb882b0>"
      ]
     },
     "execution_count": 27,
     "metadata": {},
     "output_type": "execute_result"
    },
    {
     "data": {
      "image/png": "[encoded data removed]",
      "text/plain": [
       "<Figure size 432x288 with 1 Axes>"
      ]
     },
     "metadata": {
      "needs_background": "light"
     },
     "output_type": "display_data"
    }
   ],
   "source": [
    "sns.lineplot(x='year', y='rel_score', hue='alliance', data=df, palette=['red', 'blue'])"
   ]
  },
  {
   "cell_type": "markdown",
   "metadata": {
    "slideshow": {
     "slide_type": "fragment"
    }
   },
   "source": [
    "### Somehow being on the red alliance makes you play better"
   ]
  },
  {
   "cell_type": "code",
   "execution_count": null,
   "metadata": {
    "slideshow": {
     "slide_type": "skip"
    }
   },
   "outputs": [],
   "source": []
  }
 ],
 "metadata": {
  "celltoolbar": "Slideshow",
  "kernelspec": {
   "display_name": "Python 3",
   "language": "python",
   "name": "python3"
  },
  "language_info": {
   "codemirror_mode": {
    "name": "ipython",
    "version": 3
   },
   "file_extension": ".py",
   "mimetype": "text/x-python",
   "name": "python",
   "nbconvert_exporter": "python",
   "pygments_lexer": "ipython3",
   "version": "3.7.2"
  }
 },
 "nbformat": 4,
 "nbformat_minor": 2
}
