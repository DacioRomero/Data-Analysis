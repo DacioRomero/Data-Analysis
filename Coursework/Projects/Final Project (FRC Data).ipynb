{
 "cells": [
  {
   "cell_type": "code",
   "execution_count": 1,
   "metadata": {},
   "outputs": [],
   "source": [
    "from glob import glob\n",
    "import pandas as pd\n",
    "import numpy as np"
   ]
  },
  {
   "cell_type": "code",
   "execution_count": 2,
   "metadata": {},
   "outputs": [],
   "source": [
    "def filter_csvs_gte_2007(csvs):\n",
    "    '''Filters csvs '''\n",
    "    return [csv for csv in csvs if int(csv.split('/')[4]) >= 2007]"
   ]
  },
  {
   "cell_type": "markdown",
   "metadata": {},
   "source": [
    "# Processing Matches"
   ]
  },
  {
   "cell_type": "code",
   "execution_count": 3,
   "metadata": {},
   "outputs": [],
   "source": [
    "matches_csvs = filter_csvs_gte_2007(glob('../Datasets/frc/events/**/**/*_matches.csv'))"
   ]
  },
  {
   "cell_type": "code",
   "execution_count": 4,
   "metadata": {},
   "outputs": [
    {
     "data": {
      "text/html": [
       "<div>\n",
       "<style scoped>\n",
       "    .dataframe tbody tr th:only-of-type {\n",
       "        vertical-align: middle;\n",
       "    }\n",
       "\n",
       "    .dataframe tbody tr th {\n",
       "        vertical-align: top;\n",
       "    }\n",
       "\n",
       "    .dataframe thead th {\n",
       "        text-align: right;\n",
       "    }\n",
       "</style>\n",
       "<table border=\"1\" class=\"dataframe\">\n",
       "  <thead>\n",
       "    <tr style=\"text-align: right;\">\n",
       "      <th></th>\n",
       "      <th>event_key</th>\n",
       "      <th>match_key</th>\n",
       "      <th>red_score</th>\n",
       "      <th>blue_score</th>\n",
       "      <th>matches_role</th>\n",
       "      <th>team</th>\n",
       "      <th>team_score</th>\n",
       "    </tr>\n",
       "  </thead>\n",
       "  <tbody>\n",
       "    <tr>\n",
       "      <th>0</th>\n",
       "      <td>2013azch</td>\n",
       "      <td>f1m1</td>\n",
       "      <td>111.0</td>\n",
       "      <td>69.0</td>\n",
       "      <td>red1</td>\n",
       "      <td>frc3944</td>\n",
       "      <td>111.0</td>\n",
       "    </tr>\n",
       "    <tr>\n",
       "      <th>1</th>\n",
       "      <td>2013azch</td>\n",
       "      <td>f1m2</td>\n",
       "      <td>114.0</td>\n",
       "      <td>50.0</td>\n",
       "      <td>red1</td>\n",
       "      <td>frc842</td>\n",
       "      <td>114.0</td>\n",
       "    </tr>\n",
       "    <tr>\n",
       "      <th>2</th>\n",
       "      <td>2013azch</td>\n",
       "      <td>qf1m1</td>\n",
       "      <td>87.0</td>\n",
       "      <td>89.0</td>\n",
       "      <td>red1</td>\n",
       "      <td>frc3944</td>\n",
       "      <td>87.0</td>\n",
       "    </tr>\n",
       "    <tr>\n",
       "      <th>3</th>\n",
       "      <td>2013azch</td>\n",
       "      <td>qf1m2</td>\n",
       "      <td>106.0</td>\n",
       "      <td>62.0</td>\n",
       "      <td>red1</td>\n",
       "      <td>frc3944</td>\n",
       "      <td>106.0</td>\n",
       "    </tr>\n",
       "    <tr>\n",
       "      <th>4</th>\n",
       "      <td>2013azch</td>\n",
       "      <td>qf1m3</td>\n",
       "      <td>133.0</td>\n",
       "      <td>60.0</td>\n",
       "      <td>red1</td>\n",
       "      <td>frc3944</td>\n",
       "      <td>133.0</td>\n",
       "    </tr>\n",
       "  </tbody>\n",
       "</table>\n",
       "</div>"
      ],
      "text/plain": [
       "  event_key match_key  red_score  blue_score matches_role     team  team_score\n",
       "0  2013azch      f1m1      111.0        69.0         red1  frc3944       111.0\n",
       "1  2013azch      f1m2      114.0        50.0         red1   frc842       114.0\n",
       "2  2013azch     qf1m1       87.0        89.0         red1  frc3944        87.0\n",
       "3  2013azch     qf1m2      106.0        62.0         red1  frc3944       106.0\n",
       "4  2013azch     qf1m3      133.0        60.0         red1  frc3944       133.0"
      ]
     },
     "execution_count": 4,
     "metadata": {},
     "output_type": "execute_result"
    }
   ],
   "source": [
    "matches_headers=['event_key match_key', 'red1', 'red2', 'red3', 'blue1', 'blue2', 'blue3', 'red_score', 'blue_score']\n",
    "to_combine = []\n",
    "\n",
    "for matches_csv in matches_csvs:\n",
    "    # Read CSV with custom column names\n",
    "    matches_df = pd.read_csv(matches_csv, header=None, names=matches_headers)\n",
    "    \n",
    "    # Separate event_key and matches_key\n",
    "    matches_df['event_key'], matches_df['match_key'] = zip(*matches_df['event_key match_key'].str.split('_'))\n",
    "    matches_df.drop(columns=['event_key match_key'], inplace=True)\n",
    "    \n",
    "    # Make it a per-team basis\n",
    "    matches_df = matches_df.melt(\n",
    "        id_vars=['event_key', 'match_key', 'red_score', 'blue_score'],\n",
    "        value_vars=['red1', 'red2', 'red3', 'blue1', 'blue2', 'blue3'],\n",
    "        var_name='matches_role',\n",
    "        value_name='team',\n",
    "    )\n",
    "    \n",
    "    matches_df['team_score'] = np.where(\n",
    "        matches_df['matches_role'].str.startswith('red'),\n",
    "        matches_df['red_score'],\n",
    "        matches_df['blue_score']\n",
    "    )\n",
    "    # matches_df.drop(columns=['red_score', 'blue_score'], inplace=True)\n",
    "    \n",
    "    to_combine.append(matches_df)\n",
    "\n",
    "matches_df = pd.concat(to_combine)\n",
    "matches_df.head()"
   ]
  },
  {
   "cell_type": "markdown",
   "metadata": {},
   "source": [
    "# Processing Rankings"
   ]
  },
  {
   "cell_type": "code",
   "execution_count": 5,
   "metadata": {},
   "outputs": [],
   "source": [
    "rankings_csvs = filter_csvs_gte_2007(glob('../Datasets/frc/events/**/**/*_rankings.csv'))"
   ]
  },
  {
   "cell_type": "code",
   "execution_count": 6,
   "metadata": {},
   "outputs": [
    {
     "data": {
      "text/html": [
       "<div>\n",
       "<style scoped>\n",
       "    .dataframe tbody tr th:only-of-type {\n",
       "        vertical-align: middle;\n",
       "    }\n",
       "\n",
       "    .dataframe tbody tr th {\n",
       "        vertical-align: top;\n",
       "    }\n",
       "\n",
       "    .dataframe thead th {\n",
       "        text-align: right;\n",
       "    }\n",
       "</style>\n",
       "<table border=\"1\" class=\"dataframe\">\n",
       "  <thead>\n",
       "    <tr style=\"text-align: right;\">\n",
       "      <th></th>\n",
       "      <th>rank</th>\n",
       "      <th>team</th>\n",
       "      <th>event_key</th>\n",
       "    </tr>\n",
       "  </thead>\n",
       "  <tbody>\n",
       "    <tr>\n",
       "      <th>0</th>\n",
       "      <td>1</td>\n",
       "      <td>1726</td>\n",
       "      <td>2013azch</td>\n",
       "    </tr>\n",
       "    <tr>\n",
       "      <th>1</th>\n",
       "      <td>2</td>\n",
       "      <td>1492</td>\n",
       "      <td>2013azch</td>\n",
       "    </tr>\n",
       "    <tr>\n",
       "      <th>2</th>\n",
       "      <td>3</td>\n",
       "      <td>1290</td>\n",
       "      <td>2013azch</td>\n",
       "    </tr>\n",
       "    <tr>\n",
       "      <th>3</th>\n",
       "      <td>4</td>\n",
       "      <td>2449</td>\n",
       "      <td>2013azch</td>\n",
       "    </tr>\n",
       "    <tr>\n",
       "      <th>4</th>\n",
       "      <td>5</td>\n",
       "      <td>60</td>\n",
       "      <td>2013azch</td>\n",
       "    </tr>\n",
       "  </tbody>\n",
       "</table>\n",
       "</div>"
      ],
      "text/plain": [
       "  rank  team event_key\n",
       "0    1  1726  2013azch\n",
       "1    2  1492  2013azch\n",
       "2    3  1290  2013azch\n",
       "3    4  2449  2013azch\n",
       "4    5    60  2013azch"
      ]
     },
     "execution_count": 6,
     "metadata": {},
     "output_type": "execute_result"
    }
   ],
   "source": [
    "to_combine = []\n",
    "\n",
    "for rankings_csv in rankings_csvs:\n",
    "    rankings_df = pd.read_csv(rankings_csv)\n",
    "    \n",
    "    rankings_df = rankings_df[['Rank', 'Team']]\n",
    "    rankings_df.columns = rankings_df.columns.str.lower()\n",
    "    rankings_df['event_key'] = rankings_csv.split('/')[5]\n",
    "    \n",
    "    to_combine.append(rankings_df)\n",
    "\n",
    "rankings_df = pd.concat(to_combine)\n",
    "rankings_df.head()"
   ]
  },
  {
   "cell_type": "markdown",
   "metadata": {},
   "source": [
    "# Processing Awards"
   ]
  },
  {
   "cell_type": "code",
   "execution_count": 7,
   "metadata": {},
   "outputs": [],
   "source": [
    "awards_csvs = filter_csvs_gte_2007(glob('../Datasets/frc/events/**/**/*_awards.csv'))"
   ]
  },
  {
   "cell_type": "code",
   "execution_count": 8,
   "metadata": {},
   "outputs": [
    {
     "data": {
      "text/html": [
       "<div>\n",
       "<style scoped>\n",
       "    .dataframe tbody tr th:only-of-type {\n",
       "        vertical-align: middle;\n",
       "    }\n",
       "\n",
       "    .dataframe tbody tr th {\n",
       "        vertical-align: top;\n",
       "    }\n",
       "\n",
       "    .dataframe thead th {\n",
       "        text-align: right;\n",
       "    }\n",
       "</style>\n",
       "<table border=\"1\" class=\"dataframe\">\n",
       "  <thead>\n",
       "    <tr style=\"text-align: right;\">\n",
       "      <th></th>\n",
       "      <th>award_name</th>\n",
       "      <th>team</th>\n",
       "      <th>event_key</th>\n",
       "      <th>award_type_enum</th>\n",
       "      <th>award_type</th>\n",
       "    </tr>\n",
       "  </thead>\n",
       "  <tbody>\n",
       "    <tr>\n",
       "      <th>0</th>\n",
       "      <td>Regional Chairman's Award</td>\n",
       "      <td>frc2486</td>\n",
       "      <td>2013azch</td>\n",
       "      <td>0</td>\n",
       "      <td>CHAIRMANS</td>\n",
       "    </tr>\n",
       "    <tr>\n",
       "      <th>1</th>\n",
       "      <td>Regional Winners</td>\n",
       "      <td>frc3944</td>\n",
       "      <td>2013azch</td>\n",
       "      <td>1</td>\n",
       "      <td>WINNER</td>\n",
       "    </tr>\n",
       "    <tr>\n",
       "      <th>2</th>\n",
       "      <td>Regional Winners</td>\n",
       "      <td>frc842</td>\n",
       "      <td>2013azch</td>\n",
       "      <td>1</td>\n",
       "      <td>WINNER</td>\n",
       "    </tr>\n",
       "    <tr>\n",
       "      <th>3</th>\n",
       "      <td>Regional Winners</td>\n",
       "      <td>frc1726</td>\n",
       "      <td>2013azch</td>\n",
       "      <td>1</td>\n",
       "      <td>WINNER</td>\n",
       "    </tr>\n",
       "    <tr>\n",
       "      <th>4</th>\n",
       "      <td>Rookie All Star Award</td>\n",
       "      <td>frc4629</td>\n",
       "      <td>2013azch</td>\n",
       "      <td>10</td>\n",
       "      <td>NaN</td>\n",
       "    </tr>\n",
       "  </tbody>\n",
       "</table>\n",
       "</div>"
      ],
      "text/plain": [
       "                  award_name     team event_key  award_type_enum award_type\n",
       "0  Regional Chairman's Award  frc2486  2013azch                0  CHAIRMANS\n",
       "1           Regional Winners  frc3944  2013azch                1     WINNER\n",
       "2           Regional Winners   frc842  2013azch                1     WINNER\n",
       "3           Regional Winners  frc1726  2013azch                1     WINNER\n",
       "4      Rookie All Star Award  frc4629  2013azch               10        NaN"
      ]
     },
     "execution_count": 8,
     "metadata": {},
     "output_type": "execute_result"
    }
   ],
   "source": [
    "to_combine = []\n",
    "\n",
    "awards_headers=['event_key award_type_enum', 'award_name', 'team', 'awardee']\n",
    "\n",
    "for awards_csv in awards_csvs:\n",
    "    awards_df = pd.read_csv(awards_csv, header=None, names=awards_headers)\n",
    "    \n",
    "    awards_df['event_key'], awards_df['award_type_enum'] = zip(*awards_df['event_key award_type_enum'].str.split('_', 1))\n",
    "    \n",
    "    awards_df['award_type_enum'] = awards_df['award_type_enum'].astype(int)\n",
    "    \n",
    "    awards_df['award_type'] = awards_df['award_type_enum'].map({ 0: 'CHAIRMANS', 1: 'WINNER', 2: 'FINALIST' })\n",
    "    \n",
    "    awards_df.drop(columns=['awardee', 'event_key award_type_enum'], inplace=True)\n",
    "    \n",
    "    to_combine.append(awards_df)\n",
    "\n",
    "awards_df = pd.concat(to_combine)\n",
    "awards_df.head()"
   ]
  },
  {
   "cell_type": "code",
   "execution_count": null,
   "metadata": {},
   "outputs": [],
   "source": []
  }
 ],
 "metadata": {
  "kernelspec": {
   "display_name": "Python 3",
   "language": "python",
   "name": "python3"
  },
  "language_info": {
   "codemirror_mode": {
    "name": "ipython",
    "version": 3
   },
   "file_extension": ".py",
   "mimetype": "text/x-python",
   "name": "python",
   "nbconvert_exporter": "python",
   "pygments_lexer": "ipython3",
   "version": "3.7.2"
  }
 },
 "nbformat": 4,
 "nbformat_minor": 2
}
