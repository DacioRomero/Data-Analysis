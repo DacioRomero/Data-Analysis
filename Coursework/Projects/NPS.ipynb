{
 "cells": [
  {
   "cell_type": "code",
   "execution_count": 1,
   "metadata": {},
   "outputs": [],
   "source": [
    "import glob\n",
    "import pandas as pd\n",
    "import numpy as np\n",
    "from IPython.core import display as ICD"
   ]
  },
  {
   "cell_type": "code",
   "execution_count": 2,
   "metadata": {},
   "outputs": [],
   "source": [
    "import re\n",
    "def standardize_track(track):\n",
    "    if isinstance(track, str):\n",
    "        if (re.search('apps', track, re.IGNORECASE)):\n",
    "            return 'Apps'\n",
    "        elif (re.search('intro', track, re.IGNORECASE)):\n",
    "            return 'Intro'\n",
    "        elif (re.search('games', track, re.IGNORECASE)):\n",
    "            return 'Games'\n",
    "        elif (re.search('vr', track, re.IGNORECASE)):\n",
    "            return 'VR'\n",
    "    return track"
   ]
  },
  {
   "cell_type": "markdown",
   "metadata": {},
   "source": [
    "# 2016"
   ]
  },
  {
   "cell_type": "markdown",
   "metadata": {},
   "source": [
    "## Week 8"
   ]
  },
  {
   "cell_type": "code",
   "execution_count": 3,
   "metadata": {},
   "outputs": [
    {
     "data": {
      "text/html": [
       "<div>\n",
       "<style scoped>\n",
       "    .dataframe tbody tr th:only-of-type {\n",
       "        vertical-align: middle;\n",
       "    }\n",
       "\n",
       "    .dataframe tbody tr th {\n",
       "        vertical-align: top;\n",
       "    }\n",
       "\n",
       "    .dataframe thead th {\n",
       "        text-align: right;\n",
       "    }\n",
       "</style>\n",
       "<table border=\"1\" class=\"dataframe\">\n",
       "  <thead>\n",
       "    <tr style=\"text-align: right;\">\n",
       "      <th></th>\n",
       "      <th>Location</th>\n",
       "      <th>Track</th>\n",
       "      <th>Overall Rating</th>\n",
       "      <th>Week</th>\n",
       "      <th>Year</th>\n",
       "    </tr>\n",
       "  </thead>\n",
       "  <tbody>\n",
       "    <tr>\n",
       "      <th>0</th>\n",
       "      <td>New York</td>\n",
       "      <td>Apps</td>\n",
       "      <td>10</td>\n",
       "      <td>8</td>\n",
       "      <td>2016</td>\n",
       "    </tr>\n",
       "    <tr>\n",
       "      <th>1</th>\n",
       "      <td>San Francisco</td>\n",
       "      <td>Intro</td>\n",
       "      <td>10</td>\n",
       "      <td>8</td>\n",
       "      <td>2016</td>\n",
       "    </tr>\n",
       "    <tr>\n",
       "      <th>2</th>\n",
       "      <td>New York</td>\n",
       "      <td>Intro</td>\n",
       "      <td>10</td>\n",
       "      <td>8</td>\n",
       "      <td>2016</td>\n",
       "    </tr>\n",
       "    <tr>\n",
       "      <th>3</th>\n",
       "      <td>Sunnyvale</td>\n",
       "      <td>Apps</td>\n",
       "      <td>9</td>\n",
       "      <td>8</td>\n",
       "      <td>2016</td>\n",
       "    </tr>\n",
       "    <tr>\n",
       "      <th>4</th>\n",
       "      <td>San Francisco</td>\n",
       "      <td>Intro</td>\n",
       "      <td>3</td>\n",
       "      <td>8</td>\n",
       "      <td>2016</td>\n",
       "    </tr>\n",
       "  </tbody>\n",
       "</table>\n",
       "</div>"
      ],
      "text/plain": [
       "        Location  Track  Overall Rating  Week  Year\n",
       "0       New York   Apps              10     8  2016\n",
       "1  San Francisco  Intro              10     8  2016\n",
       "2       New York  Intro              10     8  2016\n",
       "3      Sunnyvale   Apps               9     8  2016\n",
       "4  San Francisco  Intro               3     8  2016"
      ]
     },
     "execution_count": 3,
     "metadata": {},
     "output_type": "execute_result"
    }
   ],
   "source": [
    "df_2016_week8 = pd.read_csv('../Datasets/SA Feedback Surveys_FINAL/2016/Week 8 Feedback (2016, incomplete) - results.csv')\n",
    "df_2016_week8 = df_2016_week8.rename({\n",
    "    'How likely is it that you would recommend the Make School Summer Academy to a friend?': 'Overall Rating',\n",
    "    'location': 'Location',\n",
    "    'track': 'Track'\n",
    "}, axis=1)\n",
    "\n",
    "df_2016_week8 = df_2016_week8[['Location', 'Track', 'Overall Rating']]\n",
    "\n",
    "df_2016_week8['Track'] = df_2016_week8['Track'].map(standardize_track)\n",
    "df_2016_week8['Week'] = 8\n",
    "df_2016_week8['Year'] = 2016\n",
    "\n",
    "df_2016_week8.head()"
   ]
  },
  {
   "cell_type": "markdown",
   "metadata": {},
   "source": [
    "## Anon"
   ]
  },
  {
   "cell_type": "code",
   "execution_count": 4,
   "metadata": {},
   "outputs": [],
   "source": [
    "files = glob.glob('../Datasets/SA Feedback Surveys_FINAL/2016/Anon *.csv')\n",
    "datasets = { file: pd.read_csv(file) for file in files }"
   ]
  },
  {
   "cell_type": "code",
   "execution_count": 5,
   "metadata": {},
   "outputs": [],
   "source": [
    "df_2016_anons = []\n",
    "\n",
    "for dataset in datasets:\n",
    "    name = dataset.split('/')[-1]\n",
    "    \n",
    "    name_split = name.split()\n",
    "    df = datasets[dataset]\n",
    "        \n",
    "    # Fuzzy match rating columns\n",
    "    overall_ratings = df.filter(like='overall').iloc[:,0]\n",
    "    pacing_ratings = df.filter(like='pac').iloc[:,0]\n",
    "    \n",
    "    # Convert to numbers, drop nan, convert to int and double\n",
    "    overall_ratings = pd.to_numeric(overall_ratings, errors='coerce').dropna().astype(int).apply(lambda x: x * 2)\n",
    "    pacing_ratings = pd.to_numeric(pacing_ratings, errors='coerce').dropna().astype(int).apply(lambda x: x * 2)\n",
    "    \n",
    "    df_week = pd.DataFrame({\n",
    "        'Overall Rating': overall_ratings,\n",
    "        'Pacing Rating': pacing_ratings,\n",
    "        'Week': int(name_split[2]),\n",
    "        'Location': name_split[-1].split('.')[0],\n",
    "        'Year': 2016\n",
    "    })\n",
    "    df_2016_anons.append(df_week)"
   ]
  },
  {
   "cell_type": "markdown",
   "metadata": {},
   "source": [
    "# 2017"
   ]
  },
  {
   "cell_type": "code",
   "execution_count": 6,
   "metadata": {},
   "outputs": [
    {
     "data": {
      "text/plain": [
       "array(['Just right', 'A little too fast', 'Way too slow',\n",
       "       'A little too slow', 'Way too fast', nan], dtype=object)"
      ]
     },
     "metadata": {},
     "output_type": "display_data"
    },
    {
     "data": {
      "text/html": [
       "<div>\n",
       "<style scoped>\n",
       "    .dataframe tbody tr th:only-of-type {\n",
       "        vertical-align: middle;\n",
       "    }\n",
       "\n",
       "    .dataframe tbody tr th {\n",
       "        vertical-align: top;\n",
       "    }\n",
       "\n",
       "    .dataframe thead th {\n",
       "        text-align: right;\n",
       "    }\n",
       "</style>\n",
       "<table border=\"1\" class=\"dataframe\">\n",
       "  <thead>\n",
       "    <tr style=\"text-align: right;\">\n",
       "      <th></th>\n",
       "      <th>Location</th>\n",
       "      <th>Track</th>\n",
       "      <th>Week</th>\n",
       "      <th>Overall Rating</th>\n",
       "      <th>Pacing Rating</th>\n",
       "      <th>Year</th>\n",
       "    </tr>\n",
       "  </thead>\n",
       "  <tbody>\n",
       "    <tr>\n",
       "      <th>0</th>\n",
       "      <td>San Francisco</td>\n",
       "      <td>Apps</td>\n",
       "      <td>1</td>\n",
       "      <td>3.0</td>\n",
       "      <td>6.0</td>\n",
       "      <td>2017</td>\n",
       "    </tr>\n",
       "    <tr>\n",
       "      <th>1</th>\n",
       "      <td>Los Angeles</td>\n",
       "      <td>Apps</td>\n",
       "      <td>1</td>\n",
       "      <td>4.0</td>\n",
       "      <td>8.0</td>\n",
       "      <td>2017</td>\n",
       "    </tr>\n",
       "    <tr>\n",
       "      <th>2</th>\n",
       "      <td>San Francisco</td>\n",
       "      <td>Games</td>\n",
       "      <td>1</td>\n",
       "      <td>4.0</td>\n",
       "      <td>2.0</td>\n",
       "      <td>2017</td>\n",
       "    </tr>\n",
       "    <tr>\n",
       "      <th>3</th>\n",
       "      <td>NaN</td>\n",
       "      <td>NaN</td>\n",
       "      <td>2</td>\n",
       "      <td>4.0</td>\n",
       "      <td>8.0</td>\n",
       "      <td>2017</td>\n",
       "    </tr>\n",
       "    <tr>\n",
       "      <th>4</th>\n",
       "      <td>New York City</td>\n",
       "      <td>Apps</td>\n",
       "      <td>1</td>\n",
       "      <td>4.0</td>\n",
       "      <td>6.0</td>\n",
       "      <td>2017</td>\n",
       "    </tr>\n",
       "  </tbody>\n",
       "</table>\n",
       "</div>"
      ],
      "text/plain": [
       "        Location  Track  Week  Overall Rating  Pacing Rating  Year\n",
       "0  San Francisco   Apps     1             3.0            6.0  2017\n",
       "1    Los Angeles   Apps     1             4.0            8.0  2017\n",
       "2  San Francisco  Games     1             4.0            2.0  2017\n",
       "3            NaN    NaN     2             4.0            8.0  2017\n",
       "4  New York City   Apps     1             4.0            6.0  2017"
      ]
     },
     "execution_count": 6,
     "metadata": {},
     "output_type": "execute_result"
    }
   ],
   "source": [
    "df_2017 = pd.read_csv('../Datasets/SA Feedback Surveys_FINAL/2017/Student Feedback Surveys-Superview.csv')\n",
    "\n",
    "df_2017['Week'] = df_2017['Week'].apply(lambda x: int(x.split()[-1]))\n",
    "df_2017['Track'] = df_2017['Track'].map(standardize_track)\n",
    "df_2017['Overall Rating'] = pd.to_numeric(df_2017['Rating (Num)'], errors='coerce')\n",
    "df_2017['Pacing Rating'] = df_2017['Schedule Pacing'].map({\n",
    "    'Way too slow': 2,\n",
    "    'A little too slow': 4,\n",
    "    'Just right': 6,\n",
    "    'A little too fast': 8,\n",
    "    'Way too fast': 10\n",
    "})\n",
    "df_2017['Year'] = 2017\n",
    "ICD.display(df_2017['Schedule Pacing'].unique())\n",
    "\n",
    "df_2017 = df_2017.drop(['ID', 'Rating (Num)', 'Schedule Pacing'], axis=1)\n",
    "\n",
    "df_2017.head()"
   ]
  },
  {
   "cell_type": "markdown",
   "metadata": {},
   "source": [
    "# Combined"
   ]
  },
  {
   "cell_type": "code",
   "execution_count": 7,
   "metadata": {},
   "outputs": [
    {
     "data": {
      "text/html": [
       "<div>\n",
       "<style scoped>\n",
       "    .dataframe tbody tr th:only-of-type {\n",
       "        vertical-align: middle;\n",
       "    }\n",
       "\n",
       "    .dataframe tbody tr th {\n",
       "        vertical-align: top;\n",
       "    }\n",
       "\n",
       "    .dataframe thead th {\n",
       "        text-align: right;\n",
       "    }\n",
       "</style>\n",
       "<table border=\"1\" class=\"dataframe\">\n",
       "  <thead>\n",
       "    <tr style=\"text-align: right;\">\n",
       "      <th></th>\n",
       "      <th>Location</th>\n",
       "      <th>Track</th>\n",
       "      <th>Overall Rating</th>\n",
       "      <th>Week</th>\n",
       "      <th>Year</th>\n",
       "      <th>Pacing Rating</th>\n",
       "    </tr>\n",
       "  </thead>\n",
       "  <tbody>\n",
       "    <tr>\n",
       "      <th>0</th>\n",
       "      <td>New York</td>\n",
       "      <td>Apps</td>\n",
       "      <td>10.0</td>\n",
       "      <td>8</td>\n",
       "      <td>2016</td>\n",
       "      <td>NaN</td>\n",
       "    </tr>\n",
       "    <tr>\n",
       "      <th>1</th>\n",
       "      <td>San Francisco</td>\n",
       "      <td>Intro</td>\n",
       "      <td>10.0</td>\n",
       "      <td>8</td>\n",
       "      <td>2016</td>\n",
       "      <td>NaN</td>\n",
       "    </tr>\n",
       "    <tr>\n",
       "      <th>2</th>\n",
       "      <td>New York</td>\n",
       "      <td>Intro</td>\n",
       "      <td>10.0</td>\n",
       "      <td>8</td>\n",
       "      <td>2016</td>\n",
       "      <td>NaN</td>\n",
       "    </tr>\n",
       "    <tr>\n",
       "      <th>3</th>\n",
       "      <td>Sunnyvale</td>\n",
       "      <td>Apps</td>\n",
       "      <td>9.0</td>\n",
       "      <td>8</td>\n",
       "      <td>2016</td>\n",
       "      <td>NaN</td>\n",
       "    </tr>\n",
       "    <tr>\n",
       "      <th>4</th>\n",
       "      <td>San Francisco</td>\n",
       "      <td>Intro</td>\n",
       "      <td>3.0</td>\n",
       "      <td>8</td>\n",
       "      <td>2016</td>\n",
       "      <td>NaN</td>\n",
       "    </tr>\n",
       "  </tbody>\n",
       "</table>\n",
       "</div>"
      ],
      "text/plain": [
       "        Location  Track  Overall Rating  Week  Year  Pacing Rating\n",
       "0       New York   Apps            10.0     8  2016            NaN\n",
       "1  San Francisco  Intro            10.0     8  2016            NaN\n",
       "2       New York  Intro            10.0     8  2016            NaN\n",
       "3      Sunnyvale   Apps             9.0     8  2016            NaN\n",
       "4  San Francisco  Intro             3.0     8  2016            NaN"
      ]
     },
     "execution_count": 7,
     "metadata": {},
     "output_type": "execute_result"
    }
   ],
   "source": [
    "df = pd.concat([df_2016_week8, *df_2016_anons, df_2017], sort=False)\n",
    "df.head()"
   ]
  }
 ],
 "metadata": {
  "kernelspec": {
   "display_name": "Python 3",
   "language": "python",
   "name": "python3"
  },
  "language_info": {
   "codemirror_mode": {
    "name": "ipython",
    "version": 3
   },
   "file_extension": ".py",
   "mimetype": "text/x-python",
   "name": "python",
   "nbconvert_exporter": "python",
   "pygments_lexer": "ipython3",
   "version": "3.7.2"
  }
 },
 "nbformat": 4,
 "nbformat_minor": 2
}
