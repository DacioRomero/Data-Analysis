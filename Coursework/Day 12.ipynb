{
 "cells": [
  {
   "cell_type": "markdown",
   "metadata": {},
   "source": [
    "# Gaussian Mixture Models (GMMs) and (Kernel Density Estimates) KDEs\n",
    "- Both approaches to approximate a histogram\n",
    "\n",
    "x = data samples\n",
    "\n",
    "## GMM\n",
    "\n",
    "- Use a specified number of normal distributions to approximate x\n",
    "\n",
    "## KDE\n",
    "- Use each sample of as the mean of normal distributiosn with the same std (bandwidth)"
   ]
  },
  {
   "cell_type": "code",
   "execution_count": null,
   "metadata": {},
   "outputs": [],
   "source": []
  }
 ],
 "metadata": {
  "kernelspec": {
   "display_name": "Python 3",
   "language": "python",
   "name": "python3"
  },
  "language_info": {
   "codemirror_mode": {
    "name": "ipython",
    "version": 3
   },
   "file_extension": ".py",
   "mimetype": "text/x-python",
   "name": "python",
   "nbconvert_exporter": "python",
   "pygments_lexer": "ipython3",
   "version": "3.7.2"
  }
 },
 "nbformat": 4,
 "nbformat_minor": 2
}
