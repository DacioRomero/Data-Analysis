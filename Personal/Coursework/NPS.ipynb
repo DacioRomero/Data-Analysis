{
 "cells": [
  {
   "cell_type": "code",
   "execution_count": 1,
   "metadata": {},
   "outputs": [],
   "source": [
    "import glob\n",
    "import pandas as pd\n",
    "import numpy as np\n",
    "from IPython.core import display as ICD"
   ]
  },
  {
   "cell_type": "code",
   "execution_count": 2,
   "metadata": {},
   "outputs": [
    {
     "name": "stdout",
     "output_type": "stream",
     "text": [
      "../Datasets/SA Feedback Surveys_FINAL/2016/Anon Week 7 Feedback - Taipei.csv\n",
      "../Datasets/SA Feedback Surveys_FINAL/2016/Anon Week 6 Feedback - Tokyo.csv\n",
      "../Datasets/SA Feedback Surveys_FINAL/2016/Anon Week 1 Feedback - Singapore.csv\n",
      "../Datasets/SA Feedback Surveys_FINAL/2016/Anon Week 7 Feedback - LA.csv\n",
      "../Datasets/SA Feedback Surveys_FINAL/2016/Anon Week 4 Feedback - SF.csv\n",
      "../Datasets/SA Feedback Surveys_FINAL/2016/Anon Week 5 Feedback - SV.csv\n",
      "../Datasets/SA Feedback Surveys_FINAL/2016/Anon Week 4 Feedback - SG.csv\n",
      "../Datasets/SA Feedback Surveys_FINAL/2016/Anon Week 6 Feedback - NY.csv\n",
      "../Datasets/SA Feedback Surveys_FINAL/2016/Anon Week 5 Feedback - HK.csv\n",
      "../Datasets/SA Feedback Surveys_FINAL/2016/Anon Week 1 Feedback - SF.csv\n",
      "../Datasets/SA Feedback Surveys_FINAL/2016/Anon Week 2 Feedback - LA.csv\n",
      "../Datasets/SA Feedback Surveys_FINAL/2016/Anon Week 6 Feedback - Taipei.csv\n",
      "../Datasets/SA Feedback Surveys_FINAL/2016/Anon Week 3 Feedback - NY.csv\n",
      "../Datasets/SA Feedback Surveys_FINAL/2016/Anon Week 6 Feedback - LA.csv\n",
      "../Datasets/SA Feedback Surveys_FINAL/2016/Anon Week 5 Feedback - SF.csv\n",
      "../Datasets/SA Feedback Surveys_FINAL/2016/Anon Week 5 Feedback - SG.csv\n",
      "../Datasets/SA Feedback Surveys_FINAL/2016/Anon Week 4 Feedback - SV.csv\n",
      "../Datasets/SA Feedback Surveys_FINAL/2016/Anon Week 7 Feedback - NY.csv\n",
      "../Datasets/SA Feedback Surveys_FINAL/2016/Anon Week 3 Feedback - LA.csv\n",
      "../Datasets/SA Feedback Surveys_FINAL/2016/Anon Week 2 Feedback - NY.csv\n",
      "../Datasets/SA Feedback Surveys_FINAL/2016/Anon Week 1 Feedback - SV.csv\n",
      "../Datasets/SA Feedback Surveys_FINAL/2016/Anon Week 5 Feedback - LA.csv\n",
      "../Datasets/SA Feedback Surveys_FINAL/2016/Anon Week 6 Feedback - SF.csv\n",
      "../Datasets/SA Feedback Surveys_FINAL/2016/Anon Week 6 Feedback - SG.csv\n",
      "../Datasets/SA Feedback Surveys_FINAL/2016/Anon Week 7 Feedback - SV.csv\n",
      "../Datasets/SA Feedback Surveys_FINAL/2016/Anon Week 4 Feedback - NY.csv\n",
      "../Datasets/SA Feedback Surveys_FINAL/2016/Anon Week 3 Feedback - SF.csv\n",
      "../Datasets/SA Feedback Surveys_FINAL/2016/Anon Week 1 Feedback - NY.csv\n",
      "../Datasets/SA Feedback Surveys_FINAL/2016/Anon Week 2 Feedback - SV.csv\n",
      "../Datasets/SA Feedback Surveys_FINAL/2016/Anon Week 3 Feedback - SG.csv\n",
      "../Datasets/SA Feedback Surveys_FINAL/2016/Anon Week 4 Feedback - LA.csv\n",
      "../Datasets/SA Feedback Surveys_FINAL/2016/Anon Week 7 Feedback - SF.csv\n",
      "../Datasets/SA Feedback Surveys_FINAL/2016/Anon Week 6 Feedback - SV.csv\n",
      "../Datasets/SA Feedback Surveys_FINAL/2016/Anon Week 6 Feedback - HK.csv\n",
      "../Datasets/SA Feedback Surveys_FINAL/2016/Anon Week 5 Feedback - NY.csv\n",
      "../Datasets/SA Feedback Surveys_FINAL/2016/Anon Week 2 Feedback - SF.csv\n",
      "../Datasets/SA Feedback Surveys_FINAL/2016/Anon Week 1 Feedback - LA.csv\n",
      "../Datasets/SA Feedback Surveys_FINAL/2016/Anon Week 2 Feedback - SG.csv\n",
      "../Datasets/SA Feedback Surveys_FINAL/2016/Anon Week 3 Feedback - SV.csv\n"
     ]
    }
   ],
   "source": [
    "files = glob.glob('../Datasets/SA Feedback Surveys_FINAL/2016/Anon Week *.csv')\n",
    "print('\\n'.join(files))"
   ]
  },
  {
   "cell_type": "code",
   "execution_count": 3,
   "metadata": {},
   "outputs": [],
   "source": [
    "datasets = { file: pd.read_csv(file) for file in files }"
   ]
  },
  {
   "cell_type": "code",
   "execution_count": 4,
   "metadata": {},
   "outputs": [
    {
     "name": "stdout",
     "output_type": "stream",
     "text": [
      "Anon Week 7 Feedback - Taipei.csv\n"
     ]
    },
    {
     "data": {
      "text/plain": [
       "0      6\n",
       "1      8\n",
       "2      8\n",
       "3      8\n",
       "4     10\n",
       "5      8\n",
       "6      8\n",
       "7     10\n",
       "8     10\n",
       "9     10\n",
       "10     6\n",
       "Name: How would you rate your overall satisfaction with the Summer Academy this week?, dtype: int64"
      ]
     },
     "metadata": {},
     "output_type": "display_data"
    },
    {
     "name": "stdout",
     "output_type": "stream",
     "text": [
      "\n",
      "\n",
      "Anon Week 6 Feedback - Tokyo.csv\n"
     ]
    },
    {
     "data": {
      "text/plain": [
       "0      6\n",
       "1      8\n",
       "2      8\n",
       "3      8\n",
       "4     10\n",
       "5      6\n",
       "6     10\n",
       "7      8\n",
       "8      6\n",
       "9     10\n",
       "10    10\n",
       "11     8\n",
       "12     8\n",
       "Name: How would you rate your overall satisfaction with the Summer Academy this week?, dtype: int64"
      ]
     },
     "metadata": {},
     "output_type": "display_data"
    },
    {
     "name": "stdout",
     "output_type": "stream",
     "text": [
      "\n",
      "\n",
      "Anon Week 1 Feedback - Singapore.csv\n"
     ]
    },
    {
     "data": {
      "text/plain": [
       "0      4\n",
       "1      4\n",
       "2      6\n",
       "3      8\n",
       "4      8\n",
       "5      8\n",
       "6      8\n",
       "7      8\n",
       "8      8\n",
       "9      8\n",
       "10     8\n",
       "11    10\n",
       "Name: How would you rate your overall satisfaction with the Summer Academy this week?, dtype: int64"
      ]
     },
     "metadata": {},
     "output_type": "display_data"
    },
    {
     "name": "stdout",
     "output_type": "stream",
     "text": [
      "\n",
      "\n",
      "Anon Week 7 Feedback - LA.csv\n"
     ]
    },
    {
     "data": {
      "text/plain": [
       "0     6\n",
       "1    10\n",
       "2     8\n",
       "3     8\n",
       "4     8\n",
       "5    10\n",
       "6     8\n",
       "7    10\n",
       "8    10\n",
       "Name: How would you rate your overall satisfaction with the Summer Academy this week?, dtype: int64"
      ]
     },
     "metadata": {},
     "output_type": "display_data"
    },
    {
     "name": "stdout",
     "output_type": "stream",
     "text": [
      "\n",
      "\n",
      "Anon Week 4 Feedback - SF.csv\n"
     ]
    },
    {
     "data": {
      "text/plain": [
       "0     10\n",
       "1      8\n",
       "2      8\n",
       "3      6\n",
       "4      8\n",
       "5      6\n",
       "6      8\n",
       "7     10\n",
       "8      8\n",
       "9      8\n",
       "10    10\n",
       "11     8\n",
       "12     8\n",
       "13    10\n",
       "14    10\n",
       "15    10\n",
       "16    10\n",
       "17     6\n",
       "18     8\n",
       "19     6\n",
       "20     8\n",
       "21     8\n",
       "22     6\n",
       "23     8\n",
       "24    10\n",
       "25     8\n",
       "26    10\n",
       "27    10\n",
       "28     8\n",
       "29     6\n",
       "30     6\n",
       "Name: How would you rate your overall satisfaction with the Summer Academy this week?, dtype: int64"
      ]
     },
     "metadata": {},
     "output_type": "display_data"
    },
    {
     "name": "stdout",
     "output_type": "stream",
     "text": [
      "\n",
      "\n",
      "Anon Week 5 Feedback - SV.csv\n"
     ]
    },
    {
     "data": {
      "text/plain": [
       "0      8\n",
       "1     10\n",
       "2      6\n",
       "3      4\n",
       "4      8\n",
       "5      8\n",
       "6     10\n",
       "7      6\n",
       "8     10\n",
       "9      8\n",
       "10     8\n",
       "11    10\n",
       "12     8\n",
       "13    10\n",
       "14     8\n",
       "15     4\n",
       "16     8\n",
       "17    10\n",
       "18     6\n",
       "19     8\n",
       "20     8\n",
       "21     8\n",
       "22     6\n",
       "23    10\n",
       "24    10\n",
       "25     8\n",
       "26     8\n",
       "27     8\n",
       "28     8\n",
       "29    10\n",
       "30     8\n",
       "31     8\n",
       "32    10\n",
       "33     8\n",
       "34     8\n",
       "35    10\n",
       "36     6\n",
       "37    10\n",
       "38     6\n",
       "39    10\n",
       "40    10\n",
       "Name: How would you rate your overall satisfaction with the Summer Academy this week?, dtype: int64"
      ]
     },
     "metadata": {},
     "output_type": "display_data"
    },
    {
     "name": "stdout",
     "output_type": "stream",
     "text": [
      "\n",
      "\n",
      "Anon Week 4 Feedback - SG.csv\n"
     ]
    },
    {
     "data": {
      "text/plain": [
       "0    8\n",
       "1    8\n",
       "2    6\n",
       "3    8\n",
       "4    6\n",
       "5    8\n",
       "6    8\n",
       "7    6\n",
       "8    8\n",
       "Name: How would you rate your overall satisfaction with the Summer Academy this week?, dtype: int64"
      ]
     },
     "metadata": {},
     "output_type": "display_data"
    },
    {
     "name": "stdout",
     "output_type": "stream",
     "text": [
      "\n",
      "\n",
      "Anon Week 6 Feedback - NY.csv\n"
     ]
    },
    {
     "data": {
      "text/plain": [
       "0      4\n",
       "1      8\n",
       "2      8\n",
       "3     10\n",
       "4     10\n",
       "5      8\n",
       "6      6\n",
       "7     10\n",
       "8      6\n",
       "9      8\n",
       "10    10\n",
       "11     8\n",
       "12    10\n",
       "13     4\n",
       "14     8\n",
       "15     8\n",
       "16    10\n",
       "17     8\n",
       "18    10\n",
       "19     8\n",
       "Name: How would you rate your overall satisfaction with the Summer Academy this week?, dtype: int64"
      ]
     },
     "metadata": {},
     "output_type": "display_data"
    },
    {
     "name": "stdout",
     "output_type": "stream",
     "text": [
      "\n",
      "\n",
      "Anon Week 5 Feedback - HK.csv\n"
     ]
    },
    {
     "data": {
      "text/plain": [
       "0     8\n",
       "1    10\n",
       "2    10\n",
       "Name: How would you rate your overall satisfaction with the Summer Academy this week?, dtype: int64"
      ]
     },
     "metadata": {},
     "output_type": "display_data"
    },
    {
     "name": "stdout",
     "output_type": "stream",
     "text": [
      "\n",
      "\n",
      "Anon Week 1 Feedback - SF.csv\n"
     ]
    },
    {
     "data": {
      "text/plain": [
       "0      6\n",
       "1      6\n",
       "2      6\n",
       "3      6\n",
       "4      8\n",
       "5      8\n",
       "6      8\n",
       "7      8\n",
       "8      8\n",
       "9      8\n",
       "10     8\n",
       "11     8\n",
       "12     8\n",
       "13     8\n",
       "14     8\n",
       "15     8\n",
       "16     8\n",
       "17     8\n",
       "18     8\n",
       "19     8\n",
       "20     8\n",
       "21     8\n",
       "22     8\n",
       "23     8\n",
       "24     8\n",
       "25     8\n",
       "26     8\n",
       "27     8\n",
       "28     8\n",
       "29    10\n",
       "      ..\n",
       "63    10\n",
       "64    10\n",
       "65    10\n",
       "66    10\n",
       "67    10\n",
       "68     6\n",
       "69     8\n",
       "70     8\n",
       "71     8\n",
       "72     8\n",
       "73     8\n",
       "74     8\n",
       "75     8\n",
       "76     8\n",
       "77     8\n",
       "78    10\n",
       "79    10\n",
       "80    10\n",
       "81    10\n",
       "82    10\n",
       "83    10\n",
       "84    10\n",
       "85    10\n",
       "86    10\n",
       "87    10\n",
       "88    10\n",
       "89     6\n",
       "90    10\n",
       "91    10\n",
       "92    10\n",
       "Name: How would you rate your overall satisfaction with the Summer Academy this week?, Length: 93, dtype: int64"
      ]
     },
     "metadata": {},
     "output_type": "display_data"
    },
    {
     "name": "stdout",
     "output_type": "stream",
     "text": [
      "\n",
      "\n",
      "Anon Week 2 Feedback - LA.csv\n"
     ]
    },
    {
     "data": {
      "text/plain": [
       "0     8\n",
       "1     6\n",
       "2     8\n",
       "3     8\n",
       "4     8\n",
       "5    10\n",
       "6    10\n",
       "Name: How would you rate your overall satisfaction with the Summer Academy this week?, dtype: int64"
      ]
     },
     "metadata": {},
     "output_type": "display_data"
    },
    {
     "name": "stdout",
     "output_type": "stream",
     "text": [
      "\n",
      "\n",
      "Anon Week 6 Feedback - Taipei.csv\n"
     ]
    },
    {
     "data": {
      "text/plain": [
       "0     10\n",
       "1     10\n",
       "2     10\n",
       "3     10\n",
       "4      8\n",
       "5      8\n",
       "6      6\n",
       "7      6\n",
       "8     10\n",
       "9      8\n",
       "10    10\n",
       "11    10\n",
       "Name: How would you rate your overall satisfaction with the Summer Academy this week?, dtype: int64"
      ]
     },
     "metadata": {},
     "output_type": "display_data"
    },
    {
     "name": "stdout",
     "output_type": "stream",
     "text": [
      "\n",
      "\n",
      "Anon Week 3 Feedback - NY.csv\n"
     ]
    },
    {
     "data": {
      "text/plain": [
       "0      8\n",
       "1     10\n",
       "2      8\n",
       "3     10\n",
       "4      8\n",
       "5      8\n",
       "6      8\n",
       "7     10\n",
       "8      8\n",
       "9      8\n",
       "10     8\n",
       "11     8\n",
       "12     8\n",
       "13     8\n",
       "14    10\n",
       "15     8\n",
       "16     8\n",
       "17    10\n",
       "18     8\n",
       "19     8\n",
       "20    10\n",
       "21     6\n",
       "22    10\n",
       "23    10\n",
       "24     8\n",
       "25    10\n",
       "26    10\n",
       "27     8\n",
       "Name: How would you rate your overall satisfaction with the Summer Academy this week?, dtype: int64"
      ]
     },
     "metadata": {},
     "output_type": "display_data"
    },
    {
     "name": "stdout",
     "output_type": "stream",
     "text": [
      "\n",
      "\n",
      "Anon Week 6 Feedback - LA.csv\n"
     ]
    },
    {
     "data": {
      "text/plain": [
       "0    10\n",
       "1    10\n",
       "2     6\n",
       "3     2\n",
       "4    10\n",
       "5    10\n",
       "6    10\n",
       "7     8\n",
       "8     8\n",
       "9     8\n",
       "Name: How would you rate your overall satisfaction with the Summer Academy this week?, dtype: int64"
      ]
     },
     "metadata": {},
     "output_type": "display_data"
    },
    {
     "name": "stdout",
     "output_type": "stream",
     "text": [
      "\n",
      "\n",
      "Anon Week 5 Feedback - SF.csv\n"
     ]
    },
    {
     "data": {
      "text/plain": [
       "0      6\n",
       "1      8\n",
       "2      8\n",
       "3      8\n",
       "4      6\n",
       "5     10\n",
       "6      6\n",
       "7     10\n",
       "8      2\n",
       "9      8\n",
       "10    10\n",
       "11     8\n",
       "12     6\n",
       "13     8\n",
       "14    10\n",
       "15     2\n",
       "16    10\n",
       "17     8\n",
       "18    10\n",
       "19    10\n",
       "20     8\n",
       "21     6\n",
       "22    10\n",
       "23    10\n",
       "24    10\n",
       "25    10\n",
       "26    10\n",
       "27    10\n",
       "28    10\n",
       "29    10\n",
       "30     8\n",
       "31    10\n",
       "32    10\n",
       "33     8\n",
       "34    10\n",
       "35    10\n",
       "36    10\n",
       "37    10\n",
       "38     8\n",
       "39    10\n",
       "40     6\n",
       "41     6\n",
       "Name: How would you rate your overall satisfaction with the Summer Academy this week?, dtype: int64"
      ]
     },
     "metadata": {},
     "output_type": "display_data"
    },
    {
     "name": "stdout",
     "output_type": "stream",
     "text": [
      "\n",
      "\n",
      "Anon Week 5 Feedback - SG.csv\n"
     ]
    },
    {
     "data": {
      "text/plain": [
       "0     8\n",
       "1     8\n",
       "2     8\n",
       "3     8\n",
       "4     8\n",
       "5     8\n",
       "6     8\n",
       "7     6\n",
       "8     8\n",
       "9     8\n",
       "10    4\n",
       "Name: How would you rate your overall satisfaction with the Summer Academy this week?, dtype: int64"
      ]
     },
     "metadata": {},
     "output_type": "display_data"
    },
    {
     "name": "stdout",
     "output_type": "stream",
     "text": [
      "\n",
      "\n",
      "Anon Week 4 Feedback - SV.csv\n"
     ]
    },
    {
     "data": {
      "text/plain": [
       "0      4\n",
       "1      6\n",
       "2      8\n",
       "3      8\n",
       "4     10\n",
       "5      8\n",
       "6      8\n",
       "7      8\n",
       "8      8\n",
       "9      8\n",
       "10     6\n",
       "11     8\n",
       "12    10\n",
       "13     8\n",
       "14    10\n",
       "15     6\n",
       "16     8\n",
       "17     8\n",
       "18     8\n",
       "19     8\n",
       "20    10\n",
       "21    10\n",
       "22    10\n",
       "23     8\n",
       "24    10\n",
       "25    10\n",
       "26     8\n",
       "27    10\n",
       "28    10\n",
       "29     8\n",
       "30     8\n",
       "31     8\n",
       "32    10\n",
       "33    10\n",
       "34     6\n",
       "35    10\n",
       "Name: How would you rate your overall satisfaction with the Summer Academy this week?, dtype: int64"
      ]
     },
     "metadata": {},
     "output_type": "display_data"
    },
    {
     "name": "stdout",
     "output_type": "stream",
     "text": [
      "\n",
      "\n",
      "Anon Week 7 Feedback - NY.csv\n"
     ]
    },
    {
     "data": {
      "text/plain": [
       "0      6\n",
       "1     10\n",
       "2     10\n",
       "3      8\n",
       "4      8\n",
       "5      8\n",
       "6     10\n",
       "7     10\n",
       "8      8\n",
       "9      8\n",
       "10    10\n",
       "11     6\n",
       "12    10\n",
       "13     8\n",
       "14     8\n",
       "15     8\n",
       "16    10\n",
       "Name: How would you rate your overall satisfaction with the Summer Academy this week?, dtype: int64"
      ]
     },
     "metadata": {},
     "output_type": "display_data"
    },
    {
     "name": "stdout",
     "output_type": "stream",
     "text": [
      "\n",
      "\n",
      "Anon Week 3 Feedback - LA.csv\n"
     ]
    },
    {
     "data": {
      "text/plain": [
       "0     8\n",
       "1     8\n",
       "2     8\n",
       "3     8\n",
       "4     8\n",
       "5    10\n",
       "Name: How would you rate your overall satisfaction with the Summer Academy this week?, dtype: int64"
      ]
     },
     "metadata": {},
     "output_type": "display_data"
    },
    {
     "name": "stdout",
     "output_type": "stream",
     "text": [
      "\n",
      "\n",
      "Anon Week 2 Feedback - NY.csv\n"
     ]
    },
    {
     "data": {
      "text/plain": [
       "0      6\n",
       "1      6\n",
       "2      6\n",
       "3      6\n",
       "4      8\n",
       "5      8\n",
       "6      8\n",
       "7      8\n",
       "8      8\n",
       "9      8\n",
       "10     8\n",
       "11     8\n",
       "12     8\n",
       "13     8\n",
       "14     8\n",
       "15     8\n",
       "16     8\n",
       "17     8\n",
       "18    10\n",
       "19    10\n",
       "20    10\n",
       "21    10\n",
       "22    10\n",
       "23    10\n",
       "24    10\n",
       "25    10\n",
       "26    10\n",
       "27    10\n",
       "Name: How would you rate your overall satisfaction with the Summer Academy this week?, dtype: int64"
      ]
     },
     "metadata": {},
     "output_type": "display_data"
    },
    {
     "name": "stdout",
     "output_type": "stream",
     "text": [
      "\n",
      "\n",
      "Anon Week 1 Feedback - SV.csv\n"
     ]
    },
    {
     "data": {
      "text/plain": [
       "0      4\n",
       "1      6\n",
       "2      6\n",
       "3      6\n",
       "4      6\n",
       "5      6\n",
       "6      8\n",
       "7      8\n",
       "8      8\n",
       "9      8\n",
       "10     8\n",
       "11     8\n",
       "12     8\n",
       "13     8\n",
       "14     8\n",
       "15     8\n",
       "16     8\n",
       "17     8\n",
       "18     8\n",
       "19     8\n",
       "20     8\n",
       "21     8\n",
       "22     8\n",
       "23     8\n",
       "24     8\n",
       "25     8\n",
       "26     8\n",
       "27     8\n",
       "28     8\n",
       "29     8\n",
       "      ..\n",
       "32     8\n",
       "33     8\n",
       "34     8\n",
       "35     8\n",
       "36     8\n",
       "37     8\n",
       "38     8\n",
       "39     8\n",
       "40     8\n",
       "41    10\n",
       "42    10\n",
       "43    10\n",
       "44    10\n",
       "45    10\n",
       "46    10\n",
       "47    10\n",
       "48    10\n",
       "49    10\n",
       "50    10\n",
       "51    10\n",
       "52    10\n",
       "53    10\n",
       "54    10\n",
       "55    10\n",
       "56    10\n",
       "57    10\n",
       "58    10\n",
       "59    10\n",
       "60    10\n",
       "61    10\n",
       "Name: How would you rate your overall satisfaction with the Summer Academy this week?, Length: 62, dtype: int64"
      ]
     },
     "metadata": {},
     "output_type": "display_data"
    },
    {
     "name": "stdout",
     "output_type": "stream",
     "text": [
      "\n",
      "\n",
      "Anon Week 5 Feedback - LA.csv\n"
     ]
    },
    {
     "data": {
      "text/plain": [
       "0      6\n",
       "1      8\n",
       "2     10\n",
       "3      8\n",
       "4      8\n",
       "5      8\n",
       "6     10\n",
       "7      8\n",
       "8     10\n",
       "9     10\n",
       "10     8\n",
       "11     8\n",
       "Name: How would you rate your overall satisfaction with the Summer Academy this week?, dtype: int64"
      ]
     },
     "metadata": {},
     "output_type": "display_data"
    },
    {
     "name": "stdout",
     "output_type": "stream",
     "text": [
      "\n",
      "\n",
      "Anon Week 6 Feedback - SF.csv\n"
     ]
    },
    {
     "data": {
      "text/plain": [
       "0      8\n",
       "1      6\n",
       "2      4\n",
       "3      8\n",
       "4      6\n",
       "5     10\n",
       "6      2\n",
       "7      6\n",
       "8     10\n",
       "9      8\n",
       "10    10\n",
       "11    10\n",
       "12    10\n",
       "13     8\n",
       "14    10\n",
       "15    10\n",
       "16     6\n",
       "17    10\n",
       "18    10\n",
       "19     6\n",
       "20    10\n",
       "21    10\n",
       "22     8\n",
       "23     8\n",
       "24     8\n",
       "Name: How would you rate your overall satisfaction with the Summer Academy this week?, dtype: int64"
      ]
     },
     "metadata": {},
     "output_type": "display_data"
    },
    {
     "name": "stdout",
     "output_type": "stream",
     "text": [
      "\n",
      "\n",
      "Anon Week 6 Feedback - SG.csv\n"
     ]
    },
    {
     "data": {
      "text/plain": [
       "0     8\n",
       "1    10\n",
       "2    10\n",
       "3     8\n",
       "4     6\n",
       "5    10\n",
       "Name: How would you rate your overall satisfaction with the Summer Academy this week?, dtype: int64"
      ]
     },
     "metadata": {},
     "output_type": "display_data"
    },
    {
     "name": "stdout",
     "output_type": "stream",
     "text": [
      "\n",
      "\n",
      "Anon Week 7 Feedback - SV.csv\n"
     ]
    },
    {
     "data": {
      "text/plain": [
       "0      6\n",
       "1     10\n",
       "2      6\n",
       "3      8\n",
       "4      8\n",
       "5      8\n",
       "6      6\n",
       "7      6\n",
       "8     10\n",
       "9      8\n",
       "10     8\n",
       "11     8\n",
       "12     8\n",
       "13    10\n",
       "14     8\n",
       "15     6\n",
       "16    10\n",
       "17    10\n",
       "18     6\n",
       "19     8\n",
       "20     4\n",
       "21     6\n",
       "22     6\n",
       "23    10\n",
       "24    10\n",
       "25     6\n",
       "26    10\n",
       "27    10\n",
       "28    10\n",
       "29     8\n",
       "30     8\n",
       "31    10\n",
       "32     8\n",
       "33    10\n",
       "34     6\n",
       "35     8\n",
       "36     8\n",
       "37    10\n",
       "38    10\n",
       "39    10\n",
       "40    10\n",
       "41    10\n",
       "42     8\n",
       "43     8\n",
       "44    10\n",
       "45     8\n",
       "46     6\n",
       "Name: How would you rate your overall satisfaction with the Summer Academy this week?, dtype: int64"
      ]
     },
     "metadata": {},
     "output_type": "display_data"
    },
    {
     "name": "stdout",
     "output_type": "stream",
     "text": [
      "\n",
      "\n",
      "Anon Week 4 Feedback - NY.csv\n"
     ]
    },
    {
     "data": {
      "text/plain": [
       "0     10\n",
       "1     10\n",
       "2      8\n",
       "3      8\n",
       "4      8\n",
       "5      8\n",
       "6      8\n",
       "7     10\n",
       "8      8\n",
       "9     10\n",
       "10     8\n",
       "11     8\n",
       "12    10\n",
       "13     8\n",
       "14     8\n",
       "15     8\n",
       "Name: How would you rate your overall satisfaction with the Summer Academy this week?, dtype: int64"
      ]
     },
     "metadata": {},
     "output_type": "display_data"
    },
    {
     "name": "stdout",
     "output_type": "stream",
     "text": [
      "\n",
      "\n",
      "Anon Week 3 Feedback - SF.csv\n"
     ]
    },
    {
     "data": {
      "text/plain": [
       "0      6\n",
       "1     10\n",
       "2      6\n",
       "3      2\n",
       "4     10\n",
       "5     10\n",
       "6      6\n",
       "7     10\n",
       "8     10\n",
       "9     10\n",
       "10    10\n",
       "11    10\n",
       "12     8\n",
       "13     8\n",
       "14     8\n",
       "15    10\n",
       "16    10\n",
       "17    10\n",
       "18     8\n",
       "19     2\n",
       "20     8\n",
       "21     6\n",
       "22     8\n",
       "Name: How would you rate your overall satisfaction with the Summer Academy this week?, dtype: int64"
      ]
     },
     "metadata": {},
     "output_type": "display_data"
    },
    {
     "name": "stdout",
     "output_type": "stream",
     "text": [
      "\n",
      "\n",
      "Anon Week 1 Feedback - NY.csv\n"
     ]
    },
    {
     "data": {
      "text/plain": [
       "0      6\n",
       "1      6\n",
       "2      6\n",
       "3      8\n",
       "4      8\n",
       "5      8\n",
       "6      8\n",
       "7      8\n",
       "8      8\n",
       "9      8\n",
       "10     8\n",
       "11     8\n",
       "12     8\n",
       "13     8\n",
       "14     8\n",
       "15     8\n",
       "16     8\n",
       "17     8\n",
       "18     8\n",
       "19     8\n",
       "20     8\n",
       "21     8\n",
       "22    10\n",
       "23    10\n",
       "24    10\n",
       "25    10\n",
       "26    10\n",
       "27    10\n",
       "28    10\n",
       "29    10\n",
       "30    10\n",
       "31    10\n",
       "32    10\n",
       "33    10\n",
       "34    10\n",
       "35    10\n",
       "36    10\n",
       "37    10\n",
       "38    10\n",
       "Name: How would you rate your overall satisfaction with the Summer Academy this week?, dtype: int64"
      ]
     },
     "metadata": {},
     "output_type": "display_data"
    },
    {
     "name": "stdout",
     "output_type": "stream",
     "text": [
      "\n",
      "\n",
      "Anon Week 2 Feedback - SV.csv\n"
     ]
    },
    {
     "data": {
      "text/plain": [
       "0      6\n",
       "1      6\n",
       "2      6\n",
       "3      6\n",
       "4      6\n",
       "5      6\n",
       "6      6\n",
       "7      6\n",
       "8      6\n",
       "9      6\n",
       "10     6\n",
       "11     6\n",
       "12     6\n",
       "13     6\n",
       "14     8\n",
       "15     8\n",
       "16     8\n",
       "17     8\n",
       "18     8\n",
       "19     8\n",
       "20     8\n",
       "21     8\n",
       "22     8\n",
       "23     8\n",
       "24     8\n",
       "25     8\n",
       "26     8\n",
       "27     8\n",
       "28     8\n",
       "29     8\n",
       "30     8\n",
       "31     8\n",
       "32     8\n",
       "33     8\n",
       "34     8\n",
       "35     8\n",
       "36     8\n",
       "37     8\n",
       "38     8\n",
       "39     8\n",
       "40     8\n",
       "41     8\n",
       "42    10\n",
       "43    10\n",
       "44    10\n",
       "45    10\n",
       "46    10\n",
       "47    10\n",
       "48    10\n",
       "49    10\n",
       "50    10\n",
       "51    10\n",
       "52    10\n",
       "53    10\n",
       "54    10\n",
       "55    10\n",
       "Name: How would you rate your overall satisfaction with the Summer Academy this week?, dtype: int64"
      ]
     },
     "metadata": {},
     "output_type": "display_data"
    },
    {
     "name": "stdout",
     "output_type": "stream",
     "text": [
      "\n",
      "\n",
      "Anon Week 3 Feedback - SG.csv\n"
     ]
    },
    {
     "data": {
      "text/plain": [
       "0     8\n",
       "1    10\n",
       "Name: How would you rate your overall satisfaction with the Summer Academy this week?, dtype: int64"
      ]
     },
     "metadata": {},
     "output_type": "display_data"
    },
    {
     "name": "stdout",
     "output_type": "stream",
     "text": [
      "\n",
      "\n",
      "Anon Week 4 Feedback - LA.csv\n"
     ]
    },
    {
     "data": {
      "text/plain": [
       "0    10\n",
       "1    10\n",
       "2    10\n",
       "3    10\n",
       "4     6\n",
       "5     8\n",
       "6     8\n",
       "7     8\n",
       "Name: How would you rate your overall satisfaction with the Summer Academy this week?, dtype: int64"
      ]
     },
     "metadata": {},
     "output_type": "display_data"
    },
    {
     "name": "stdout",
     "output_type": "stream",
     "text": [
      "\n",
      "\n",
      "Anon Week 7 Feedback - SF.csv\n"
     ]
    },
    {
     "data": {
      "text/plain": [
       "0     10\n",
       "1      6\n",
       "2     10\n",
       "3     10\n",
       "4      8\n",
       "5     10\n",
       "6     10\n",
       "7      8\n",
       "8     10\n",
       "9     10\n",
       "10     8\n",
       "11     8\n",
       "12    10\n",
       "13    10\n",
       "14     8\n",
       "15    10\n",
       "16     2\n",
       "17     6\n",
       "18     4\n",
       "Name: How would you rate your overall satisfaction with the Summer Academy this week?, dtype: int64"
      ]
     },
     "metadata": {},
     "output_type": "display_data"
    },
    {
     "name": "stdout",
     "output_type": "stream",
     "text": [
      "\n",
      "\n",
      "Anon Week 6 Feedback - SV.csv\n"
     ]
    },
    {
     "data": {
      "text/plain": [
       "0      8\n",
       "1     10\n",
       "2     10\n",
       "3      8\n",
       "4      6\n",
       "5      6\n",
       "6      8\n",
       "7     10\n",
       "8      4\n",
       "9      8\n",
       "10     6\n",
       "11    10\n",
       "12    10\n",
       "13     6\n",
       "14     8\n",
       "15     8\n",
       "16    10\n",
       "17     8\n",
       "18     8\n",
       "19     8\n",
       "20     6\n",
       "21     8\n",
       "22     8\n",
       "23     8\n",
       "24    10\n",
       "25    10\n",
       "26    10\n",
       "27    10\n",
       "28     6\n",
       "29     8\n",
       "30     8\n",
       "31     8\n",
       "32     8\n",
       "33    10\n",
       "34     8\n",
       "Name: How would you rate your overall satisfaction with the Summer Academy this week?, dtype: int64"
      ]
     },
     "metadata": {},
     "output_type": "display_data"
    },
    {
     "name": "stdout",
     "output_type": "stream",
     "text": [
      "\n",
      "\n",
      "Anon Week 6 Feedback - HK.csv\n"
     ]
    },
    {
     "data": {
      "text/plain": [
       "0    10\n",
       "1     8\n",
       "2    10\n",
       "Name: How would you rate your overall satisfaction with the Summer Academy this week?, dtype: int64"
      ]
     },
     "metadata": {},
     "output_type": "display_data"
    },
    {
     "name": "stdout",
     "output_type": "stream",
     "text": [
      "\n",
      "\n",
      "Anon Week 5 Feedback - NY.csv\n"
     ]
    },
    {
     "data": {
      "text/plain": [
       "0     10\n",
       "1     10\n",
       "2      8\n",
       "3      8\n",
       "4     10\n",
       "5      8\n",
       "6      6\n",
       "7      8\n",
       "8     10\n",
       "9      8\n",
       "10     8\n",
       "11     8\n",
       "12     8\n",
       "13     8\n",
       "14    10\n",
       "15     8\n",
       "16    10\n",
       "17     8\n",
       "18    10\n",
       "19    10\n",
       "20     8\n",
       "Name: How would you rate your overall satisfaction with the Summer Academy this week?, dtype: int64"
      ]
     },
     "metadata": {},
     "output_type": "display_data"
    },
    {
     "name": "stdout",
     "output_type": "stream",
     "text": [
      "\n",
      "\n",
      "Anon Week 2 Feedback - SF.csv\n"
     ]
    },
    {
     "data": {
      "text/plain": [
       "0      4\n",
       "1      6\n",
       "2      6\n",
       "3      6\n",
       "4      8\n",
       "5      8\n",
       "6      8\n",
       "7      8\n",
       "8      8\n",
       "9      8\n",
       "10     8\n",
       "11     8\n",
       "12     8\n",
       "13     8\n",
       "14     8\n",
       "15     8\n",
       "16     8\n",
       "17    10\n",
       "18    10\n",
       "19    10\n",
       "20    10\n",
       "21    10\n",
       "22    10\n",
       "23    10\n",
       "24    10\n",
       "25    10\n",
       "26    10\n",
       "27    10\n",
       "28     8\n",
       "29     8\n",
       "      ..\n",
       "32    10\n",
       "33    10\n",
       "34    10\n",
       "35    10\n",
       "36    10\n",
       "37     6\n",
       "38     8\n",
       "39     8\n",
       "40     8\n",
       "41     8\n",
       "42     8\n",
       "43     8\n",
       "44     8\n",
       "45     8\n",
       "46     8\n",
       "47     8\n",
       "48     8\n",
       "49     8\n",
       "50    10\n",
       "51    10\n",
       "52    10\n",
       "53    10\n",
       "54    10\n",
       "55     2\n",
       "56     4\n",
       "57     4\n",
       "58    10\n",
       "59    10\n",
       "60    10\n",
       "61    10\n",
       "Name: How would you rate your overall satisfaction with the Summer Academy this week?, Length: 62, dtype: int64"
      ]
     },
     "metadata": {},
     "output_type": "display_data"
    },
    {
     "name": "stdout",
     "output_type": "stream",
     "text": [
      "\n",
      "\n",
      "Anon Week 1 Feedback - LA.csv\n"
     ]
    },
    {
     "data": {
      "text/plain": [
       "0     6\n",
       "1     8\n",
       "2     8\n",
       "3     8\n",
       "4     8\n",
       "5    10\n",
       "6    10\n",
       "Name: How would you rate your overall satisfaction with the Summer Academy this week?, dtype: int64"
      ]
     },
     "metadata": {},
     "output_type": "display_data"
    },
    {
     "name": "stdout",
     "output_type": "stream",
     "text": [
      "\n",
      "\n",
      "Anon Week 2 Feedback - SG.csv\n"
     ]
    },
    {
     "data": {
      "text/plain": [
       "0    8\n",
       "1    6\n",
       "2    6\n",
       "3    6\n",
       "4    8\n",
       "5    8\n",
       "6    6\n",
       "7    6\n",
       "Name: How would you rate your overall satisfaction with the Summer Academy this week?, dtype: int64"
      ]
     },
     "metadata": {},
     "output_type": "display_data"
    },
    {
     "name": "stdout",
     "output_type": "stream",
     "text": [
      "\n",
      "\n",
      "Anon Week 3 Feedback - SV.csv\n"
     ]
    },
    {
     "data": {
      "text/plain": [
       "0     10\n",
       "1     10\n",
       "2      8\n",
       "3      8\n",
       "4      8\n",
       "5     10\n",
       "6      8\n",
       "7      6\n",
       "8      8\n",
       "9      6\n",
       "10     6\n",
       "11    10\n",
       "12    10\n",
       "13     8\n",
       "14    10\n",
       "15    10\n",
       "16     8\n",
       "17    10\n",
       "18    10\n",
       "19    10\n",
       "20     6\n",
       "21     6\n",
       "22     8\n",
       "23     8\n",
       "24     8\n",
       "25     8\n",
       "26     8\n",
       "27     8\n",
       "28     8\n",
       "29     8\n",
       "30     8\n",
       "31     8\n",
       "32     8\n",
       "34    10\n",
       "35    10\n",
       "36    10\n",
       "Name: How would you rate your overall satisfaction with the Summer Academy this week?, dtype: int64"
      ]
     },
     "metadata": {},
     "output_type": "display_data"
    },
    {
     "name": "stdout",
     "output_type": "stream",
     "text": [
      "\n",
      "\n"
     ]
    }
   ],
   "source": [
    "for dataset in datasets:\n",
    "    name = dataset.split('/')[-1]\n",
    "    print(name)\n",
    "    df = datasets[dataset]\n",
    "    num_ratings = pd.to_numeric(df['How would you rate your overall satisfaction with the Summer Academy this week?'], errors='coerce')\n",
    "    num_ratings = num_ratings[num_ratings.notna()].astype(int).apply(lambda x: x * 2)\n",
    "    ICD.display(num_ratings)\n",
    "    print('\\n')"
   ]
  }
 ],
 "metadata": {
  "kernelspec": {
   "display_name": "Python 3",
   "language": "python",
   "name": "python3"
  },
  "language_info": {
   "codemirror_mode": {
    "name": "ipython",
    "version": 3
   },
   "file_extension": ".py",
   "mimetype": "text/x-python",
   "name": "python",
   "nbconvert_exporter": "python",
   "pygments_lexer": "ipython3",
   "version": "3.7.2"
  }
 },
 "nbformat": 4,
 "nbformat_minor": 2
}
